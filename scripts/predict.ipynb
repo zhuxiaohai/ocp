{
 "cells": [
  {
   "cell_type": "code",
   "execution_count": 1,
   "metadata": {
    "collapsed": true,
    "ExecuteTime": {
     "end_time": "2023-07-14T01:40:51.337556116Z",
     "start_time": "2023-07-14T01:40:50.929467758Z"
    }
   },
   "outputs": [],
   "source": [
    "import numpy as np\n",
    "import pandas as pd\n",
    "import joblib\n",
    "import os\n",
    "import math"
   ]
  },
  {
   "cell_type": "code",
   "execution_count": 2,
   "outputs": [],
   "source": [
    "data_mapping = joblib.load('../data/oc20_data_mapping.pkl')"
   ],
   "metadata": {
    "collapsed": false,
    "ExecuteTime": {
     "end_time": "2023-07-14T01:42:12.392684571Z",
     "start_time": "2023-07-14T01:40:59.529643176Z"
    }
   }
  },
  {
   "cell_type": "code",
   "execution_count": 51,
   "outputs": [],
   "source": [
    "file_names = [i for i in os.listdir('../data/s2ef/all/val_ood_cat') if i.find('.txt')>=0]\n",
    "new_dict = []\n",
    "for file in file_names:\n",
    "    path = os.path.join('../data/s2ef/all/val_ood_cat', file)\n",
    "    with open(path, 'r') as f:\n",
    "        lines = f.readlines()\n",
    "    for line in lines:\n",
    "        system_id, frame_id = line.split(',')\n",
    "        temp = {}\n",
    "        temp['system_id'] = system_id.strip()\n",
    "        temp['frame_id'] = frame_id.strip()\n",
    "        temp.update(data_mapping.get(system_id, {}))\n",
    "        new_dict.append(temp)"
   ],
   "metadata": {
    "collapsed": false,
    "ExecuteTime": {
     "end_time": "2023-07-14T02:13:57.875380217Z",
     "start_time": "2023-07-14T02:13:55.077701274Z"
    }
   }
  },
  {
   "cell_type": "code",
   "execution_count": 52,
   "outputs": [],
   "source": [
    "df_summary = pd.DataFrame(new_dict)"
   ],
   "metadata": {
    "collapsed": false,
    "ExecuteTime": {
     "end_time": "2023-07-14T02:14:03.007902500Z",
     "start_time": "2023-07-14T02:13:59.620784572Z"
    }
   }
  },
  {
   "cell_type": "code",
   "execution_count": 53,
   "outputs": [],
   "source": [
    "s2ef_predictions = np.load('../results/2023-07-14-09-08-16/s2ef_predictions.npz')"
   ],
   "metadata": {
    "collapsed": false,
    "ExecuteTime": {
     "end_time": "2023-07-14T02:14:04.214578039Z",
     "start_time": "2023-07-14T02:14:04.208338929Z"
    }
   }
  },
  {
   "cell_type": "code",
   "execution_count": 54,
   "outputs": [
    {
     "data": {
      "text/plain": "(999809,)"
     },
     "execution_count": 54,
     "metadata": {},
     "output_type": "execute_result"
    }
   ],
   "source": [
    "s2ef_predictions['ids'].shape"
   ],
   "metadata": {
    "collapsed": false,
    "ExecuteTime": {
     "end_time": "2023-07-14T02:14:05.709171981Z",
     "start_time": "2023-07-14T02:14:05.574306127Z"
    }
   }
  },
  {
   "cell_type": "code",
   "execution_count": 55,
   "outputs": [],
   "source": [
    "chunk_size = [i.shape[0] for i in  np.array_split(s2ef_predictions['forces'], s2ef_predictions['chunk_idx'])]\n",
    "force = s2ef_predictions['forces']\n",
    "force_label = s2ef_predictions['forces_label']\n",
    "ids = s2ef_predictions['ids']\n",
    "df_force = []\n",
    "start = 0\n",
    "for i in range(s2ef_predictions['ids'].shape[0]):\n",
    "    tot = chunk_size[i]\n",
    "    temp = abs(force[start:start+tot] - force_label[start:start+tot])\n",
    "    xyz_temp = temp.sum(axis=0)\n",
    "    result = {\"force{}_sum\".format(j): xyz_temp[j] for j in range(3)}\n",
    "    result.update({\"force{}_tol\".format(j): tot for j in range(3)})\n",
    "    result['force_sum'] = xyz_temp.sum()\n",
    "    result['force_tot'] = tot * 3\n",
    "    result['ids'] = ids[i]\n",
    "    df_force.append(result)\n",
    "    start = start + tot\n",
    "df_force = pd.DataFrame(df_force)\n",
    "df_force['system_id'] = df_force['ids'].apply(lambda x: 'random{}'.format(x.split('_')[0]))\n",
    "df_force['frame_id'] = df_force['ids'].apply(lambda x: 'frame{}'.format(x.split('_')[1]))"
   ],
   "metadata": {
    "collapsed": false,
    "ExecuteTime": {
     "end_time": "2023-07-14T02:14:27.091231859Z",
     "start_time": "2023-07-14T02:14:05.711200059Z"
    }
   }
  },
  {
   "cell_type": "code",
   "execution_count": 56,
   "outputs": [],
   "source": [
    "df_force = pd.merge(left=df_force, right=df_summary, left_on=['system_id', 'frame_id'], right_on=['system_id', 'frame_id'], how='left')"
   ],
   "metadata": {
    "collapsed": false,
    "ExecuteTime": {
     "end_time": "2023-07-14T02:14:30.286707108Z",
     "start_time": "2023-07-14T02:14:28.478691230Z"
    }
   }
  },
  {
   "cell_type": "code",
   "execution_count": 57,
   "outputs": [
    {
     "data": {
      "text/plain": "   force0_sum  force1_sum  force2_sum  force0_tol  force1_tol  force2_tol  \\\n0    4.628906    8.976562    5.511719          30          30          30   \n1    1.313477    1.401367    1.554688          30          30          30   \n2    1.332031    1.478516    1.277344          30          30          30   \n3    1.498047    1.542969    1.433594          30          30          30   \n4    3.007812    2.666016    3.162109          30          30          30   \n\n   force_sum  force_tot          ids      system_id  ... ads_id  bulk_mpid  \\\n0  19.125000         90   1000066_11  random1000066  ...     60    mp-2330   \n1   4.269531         90  1000066_122  random1000066  ...     60    mp-2330   \n2   4.085938         90  1000066_133  random1000066  ...     60    mp-2330   \n3   4.476562         90  1000066_148  random1000066  ...     60    mp-2330   \n4   8.835938         90  1000066_167  random1000066  ...     60    mp-2330   \n\n   bulk_symbols ads_symbols miller_index  shift   top  \\\n0        Se6Nb4    *OHNNCH3    (1, 1, 1)  0.096  True   \n1        Se6Nb4    *OHNNCH3    (1, 1, 1)  0.096  True   \n2        Se6Nb4    *OHNNCH3    (1, 1, 1)  0.096  True   \n3        Se6Nb4    *OHNNCH3    (1, 1, 1)  0.096  True   \n4        Se6Nb4    *OHNNCH3    (1, 1, 1)  0.096  True   \n\n           adsorption_site  class anomaly  \n0  ((13.81, 2.92, 30.05),)      2       1  \n1  ((13.81, 2.92, 30.05),)      2       1  \n2  ((13.81, 2.92, 30.05),)      2       1  \n3  ((13.81, 2.92, 30.05),)      2       1  \n4  ((13.81, 2.92, 30.05),)      2       1  \n\n[5 rows x 22 columns]",
      "text/html": "<div>\n<style scoped>\n    .dataframe tbody tr th:only-of-type {\n        vertical-align: middle;\n    }\n\n    .dataframe tbody tr th {\n        vertical-align: top;\n    }\n\n    .dataframe thead th {\n        text-align: right;\n    }\n</style>\n<table border=\"1\" class=\"dataframe\">\n  <thead>\n    <tr style=\"text-align: right;\">\n      <th></th>\n      <th>force0_sum</th>\n      <th>force1_sum</th>\n      <th>force2_sum</th>\n      <th>force0_tol</th>\n      <th>force1_tol</th>\n      <th>force2_tol</th>\n      <th>force_sum</th>\n      <th>force_tot</th>\n      <th>ids</th>\n      <th>system_id</th>\n      <th>...</th>\n      <th>ads_id</th>\n      <th>bulk_mpid</th>\n      <th>bulk_symbols</th>\n      <th>ads_symbols</th>\n      <th>miller_index</th>\n      <th>shift</th>\n      <th>top</th>\n      <th>adsorption_site</th>\n      <th>class</th>\n      <th>anomaly</th>\n    </tr>\n  </thead>\n  <tbody>\n    <tr>\n      <th>0</th>\n      <td>4.628906</td>\n      <td>8.976562</td>\n      <td>5.511719</td>\n      <td>30</td>\n      <td>30</td>\n      <td>30</td>\n      <td>19.125000</td>\n      <td>90</td>\n      <td>1000066_11</td>\n      <td>random1000066</td>\n      <td>...</td>\n      <td>60</td>\n      <td>mp-2330</td>\n      <td>Se6Nb4</td>\n      <td>*OHNNCH3</td>\n      <td>(1, 1, 1)</td>\n      <td>0.096</td>\n      <td>True</td>\n      <td>((13.81, 2.92, 30.05),)</td>\n      <td>2</td>\n      <td>1</td>\n    </tr>\n    <tr>\n      <th>1</th>\n      <td>1.313477</td>\n      <td>1.401367</td>\n      <td>1.554688</td>\n      <td>30</td>\n      <td>30</td>\n      <td>30</td>\n      <td>4.269531</td>\n      <td>90</td>\n      <td>1000066_122</td>\n      <td>random1000066</td>\n      <td>...</td>\n      <td>60</td>\n      <td>mp-2330</td>\n      <td>Se6Nb4</td>\n      <td>*OHNNCH3</td>\n      <td>(1, 1, 1)</td>\n      <td>0.096</td>\n      <td>True</td>\n      <td>((13.81, 2.92, 30.05),)</td>\n      <td>2</td>\n      <td>1</td>\n    </tr>\n    <tr>\n      <th>2</th>\n      <td>1.332031</td>\n      <td>1.478516</td>\n      <td>1.277344</td>\n      <td>30</td>\n      <td>30</td>\n      <td>30</td>\n      <td>4.085938</td>\n      <td>90</td>\n      <td>1000066_133</td>\n      <td>random1000066</td>\n      <td>...</td>\n      <td>60</td>\n      <td>mp-2330</td>\n      <td>Se6Nb4</td>\n      <td>*OHNNCH3</td>\n      <td>(1, 1, 1)</td>\n      <td>0.096</td>\n      <td>True</td>\n      <td>((13.81, 2.92, 30.05),)</td>\n      <td>2</td>\n      <td>1</td>\n    </tr>\n    <tr>\n      <th>3</th>\n      <td>1.498047</td>\n      <td>1.542969</td>\n      <td>1.433594</td>\n      <td>30</td>\n      <td>30</td>\n      <td>30</td>\n      <td>4.476562</td>\n      <td>90</td>\n      <td>1000066_148</td>\n      <td>random1000066</td>\n      <td>...</td>\n      <td>60</td>\n      <td>mp-2330</td>\n      <td>Se6Nb4</td>\n      <td>*OHNNCH3</td>\n      <td>(1, 1, 1)</td>\n      <td>0.096</td>\n      <td>True</td>\n      <td>((13.81, 2.92, 30.05),)</td>\n      <td>2</td>\n      <td>1</td>\n    </tr>\n    <tr>\n      <th>4</th>\n      <td>3.007812</td>\n      <td>2.666016</td>\n      <td>3.162109</td>\n      <td>30</td>\n      <td>30</td>\n      <td>30</td>\n      <td>8.835938</td>\n      <td>90</td>\n      <td>1000066_167</td>\n      <td>random1000066</td>\n      <td>...</td>\n      <td>60</td>\n      <td>mp-2330</td>\n      <td>Se6Nb4</td>\n      <td>*OHNNCH3</td>\n      <td>(1, 1, 1)</td>\n      <td>0.096</td>\n      <td>True</td>\n      <td>((13.81, 2.92, 30.05),)</td>\n      <td>2</td>\n      <td>1</td>\n    </tr>\n  </tbody>\n</table>\n<p>5 rows × 22 columns</p>\n</div>"
     },
     "execution_count": 57,
     "metadata": {},
     "output_type": "execute_result"
    }
   ],
   "source": [
    "df_force.head()"
   ],
   "metadata": {
    "collapsed": false,
    "ExecuteTime": {
     "end_time": "2023-07-14T02:14:30.303260354Z",
     "start_time": "2023-07-14T02:14:30.297224533Z"
    }
   }
  },
  {
   "cell_type": "code",
   "execution_count": 58,
   "outputs": [],
   "source": [
    "def force_stat(df_force):\n",
    "    batch_size = 128\n",
    "    index= {'force_sum': 0, 'force0_sum': 0, 'force1_sum': 0, 'force2_sum': 0,\n",
    "            'force_tot': 0, 'force0_tol': 0, 'force1_tol': 0, 'force2_tol': 0}\n",
    "    for i in range(math.ceil(df_force.shape[0]/batch_size)):\n",
    "        temp = df_force.iloc[i*batch_size:(i+1)*batch_size]\n",
    "        for key in index:\n",
    "            index[key] += temp[key].sum()\n",
    "    return pd.Series([index['force_sum']/index['force_tot'], index['force0_sum']/index['force0_tol'],\n",
    "                      index['force1_sum']/index['force1_tol'], index['force2_sum']/index['force2_tol']],\n",
    "                     index=['force_mae', 'forcex_mae', 'forcey_mae', 'forcez_mae'])"
   ],
   "metadata": {
    "collapsed": false,
    "ExecuteTime": {
     "end_time": "2023-07-14T02:14:42.550931412Z",
     "start_time": "2023-07-14T02:14:42.540861688Z"
    }
   }
  },
  {
   "cell_type": "code",
   "execution_count": 59,
   "outputs": [],
   "source": [
    "df_force['tot'] = 'tot'"
   ],
   "metadata": {
    "collapsed": false,
    "ExecuteTime": {
     "end_time": "2023-07-14T02:14:45.827416022Z",
     "start_time": "2023-07-14T02:14:45.799447622Z"
    }
   }
  },
  {
   "cell_type": "code",
   "execution_count": 60,
   "outputs": [
    {
     "data": {
      "text/plain": "     force_mae  forcex_mae  forcey_mae  forcez_mae\ntot                                               \ntot   0.052571    0.046754    0.054297    0.056661",
      "text/html": "<div>\n<style scoped>\n    .dataframe tbody tr th:only-of-type {\n        vertical-align: middle;\n    }\n\n    .dataframe tbody tr th {\n        vertical-align: top;\n    }\n\n    .dataframe thead th {\n        text-align: right;\n    }\n</style>\n<table border=\"1\" class=\"dataframe\">\n  <thead>\n    <tr style=\"text-align: right;\">\n      <th></th>\n      <th>force_mae</th>\n      <th>forcex_mae</th>\n      <th>forcey_mae</th>\n      <th>forcez_mae</th>\n    </tr>\n    <tr>\n      <th>tot</th>\n      <th></th>\n      <th></th>\n      <th></th>\n      <th></th>\n    </tr>\n  </thead>\n  <tbody>\n    <tr>\n      <th>tot</th>\n      <td>0.052571</td>\n      <td>0.046754</td>\n      <td>0.054297</td>\n      <td>0.056661</td>\n    </tr>\n  </tbody>\n</table>\n</div>"
     },
     "execution_count": 60,
     "metadata": {},
     "output_type": "execute_result"
    }
   ],
   "source": [
    "df_force.groupby('tot').apply(force_stat)"
   ],
   "metadata": {
    "collapsed": false,
    "ExecuteTime": {
     "end_time": "2023-07-14T02:15:01.720426380Z",
     "start_time": "2023-07-14T02:14:54.586897894Z"
    }
   }
  },
  {
   "cell_type": "code",
   "execution_count": 33,
   "outputs": [
    {
     "data": {
      "text/plain": "     force_mae  forcex_mae  forcey_mae  forcez_mae\ntot                                               \ntot   0.049389    0.044685    0.051262    0.052219",
      "text/html": "<div>\n<style scoped>\n    .dataframe tbody tr th:only-of-type {\n        vertical-align: middle;\n    }\n\n    .dataframe tbody tr th {\n        vertical-align: top;\n    }\n\n    .dataframe thead th {\n        text-align: right;\n    }\n</style>\n<table border=\"1\" class=\"dataframe\">\n  <thead>\n    <tr style=\"text-align: right;\">\n      <th></th>\n      <th>force_mae</th>\n      <th>forcex_mae</th>\n      <th>forcey_mae</th>\n      <th>forcez_mae</th>\n    </tr>\n    <tr>\n      <th>tot</th>\n      <th></th>\n      <th></th>\n      <th></th>\n      <th></th>\n    </tr>\n  </thead>\n  <tbody>\n    <tr>\n      <th>tot</th>\n      <td>0.049389</td>\n      <td>0.044685</td>\n      <td>0.051262</td>\n      <td>0.052219</td>\n    </tr>\n  </tbody>\n</table>\n</div>"
     },
     "execution_count": 33,
     "metadata": {},
     "output_type": "execute_result"
    }
   ],
   "source": [
    "df_force.groupby('tot').apply(force_stat)"
   ],
   "metadata": {
    "collapsed": false,
    "ExecuteTime": {
     "end_time": "2023-07-14T02:00:52.736598905Z",
     "start_time": "2023-07-14T02:00:45.997240270Z"
    }
   }
  },
  {
   "cell_type": "code",
   "execution_count": 61,
   "outputs": [
    {
     "data": {
      "text/plain": "           force_mae  forcex_mae  forcey_mae  forcez_mae\ntot class                                               \ntot 0       0.039532    0.034097    0.040990    0.043510\n    1       0.051458    0.046403    0.053318    0.054653\n    2       0.070963    0.064098    0.073016    0.075775\n    3       0.063231    0.058061    0.064528    0.067105",
      "text/html": "<div>\n<style scoped>\n    .dataframe tbody tr th:only-of-type {\n        vertical-align: middle;\n    }\n\n    .dataframe tbody tr th {\n        vertical-align: top;\n    }\n\n    .dataframe thead th {\n        text-align: right;\n    }\n</style>\n<table border=\"1\" class=\"dataframe\">\n  <thead>\n    <tr style=\"text-align: right;\">\n      <th></th>\n      <th></th>\n      <th>force_mae</th>\n      <th>forcex_mae</th>\n      <th>forcey_mae</th>\n      <th>forcez_mae</th>\n    </tr>\n    <tr>\n      <th>tot</th>\n      <th>class</th>\n      <th></th>\n      <th></th>\n      <th></th>\n      <th></th>\n    </tr>\n  </thead>\n  <tbody>\n    <tr>\n      <th rowspan=\"4\" valign=\"top\">tot</th>\n      <th>0</th>\n      <td>0.039532</td>\n      <td>0.034097</td>\n      <td>0.040990</td>\n      <td>0.043510</td>\n    </tr>\n    <tr>\n      <th>1</th>\n      <td>0.051458</td>\n      <td>0.046403</td>\n      <td>0.053318</td>\n      <td>0.054653</td>\n    </tr>\n    <tr>\n      <th>2</th>\n      <td>0.070963</td>\n      <td>0.064098</td>\n      <td>0.073016</td>\n      <td>0.075775</td>\n    </tr>\n    <tr>\n      <th>3</th>\n      <td>0.063231</td>\n      <td>0.058061</td>\n      <td>0.064528</td>\n      <td>0.067105</td>\n    </tr>\n  </tbody>\n</table>\n</div>"
     },
     "execution_count": 61,
     "metadata": {},
     "output_type": "execute_result"
    }
   ],
   "source": [
    "df_force.groupby(['tot', 'class']).apply(force_stat)"
   ],
   "metadata": {
    "collapsed": false,
    "ExecuteTime": {
     "end_time": "2023-07-14T02:15:23.534316457Z",
     "start_time": "2023-07-14T02:15:16.639733870Z"
    }
   }
  },
  {
   "cell_type": "code",
   "execution_count": 34,
   "outputs": [
    {
     "data": {
      "text/plain": "           force_mae  forcex_mae  forcey_mae  forcez_mae\ntot class                                               \ntot 0       0.038575    0.033689    0.040291    0.041745\n    1       0.050740    0.046273    0.052669    0.053279\n    2       0.060426    0.055855    0.062451    0.062973\n    3       0.059605    0.054177    0.061496    0.063146",
      "text/html": "<div>\n<style scoped>\n    .dataframe tbody tr th:only-of-type {\n        vertical-align: middle;\n    }\n\n    .dataframe tbody tr th {\n        vertical-align: top;\n    }\n\n    .dataframe thead th {\n        text-align: right;\n    }\n</style>\n<table border=\"1\" class=\"dataframe\">\n  <thead>\n    <tr style=\"text-align: right;\">\n      <th></th>\n      <th></th>\n      <th>force_mae</th>\n      <th>forcex_mae</th>\n      <th>forcey_mae</th>\n      <th>forcez_mae</th>\n    </tr>\n    <tr>\n      <th>tot</th>\n      <th>class</th>\n      <th></th>\n      <th></th>\n      <th></th>\n      <th></th>\n    </tr>\n  </thead>\n  <tbody>\n    <tr>\n      <th rowspan=\"4\" valign=\"top\">tot</th>\n      <th>0</th>\n      <td>0.038575</td>\n      <td>0.033689</td>\n      <td>0.040291</td>\n      <td>0.041745</td>\n    </tr>\n    <tr>\n      <th>1</th>\n      <td>0.050740</td>\n      <td>0.046273</td>\n      <td>0.052669</td>\n      <td>0.053279</td>\n    </tr>\n    <tr>\n      <th>2</th>\n      <td>0.060426</td>\n      <td>0.055855</td>\n      <td>0.062451</td>\n      <td>0.062973</td>\n    </tr>\n    <tr>\n      <th>3</th>\n      <td>0.059605</td>\n      <td>0.054177</td>\n      <td>0.061496</td>\n      <td>0.063146</td>\n    </tr>\n  </tbody>\n</table>\n</div>"
     },
     "execution_count": 34,
     "metadata": {},
     "output_type": "execute_result"
    }
   ],
   "source": [
    "df_force.groupby(['tot', 'class']).apply(force_stat)"
   ],
   "metadata": {
    "collapsed": false,
    "ExecuteTime": {
     "end_time": "2023-07-14T02:01:01.120440962Z",
     "start_time": "2023-07-14T02:00:54.610851195Z"
    }
   }
  },
  {
   "cell_type": "code",
   "execution_count": 62,
   "outputs": [
    {
     "data": {
      "text/plain": "                   force_mae  forcex_mae  forcey_mae  forcez_mae\nads_symbols class                                               \n*C          0       0.058030    0.051253    0.058902    0.063935\n            1       0.075550    0.067887    0.079610    0.079145\n            2       0.087361    0.079949    0.088630    0.093484\n            3       0.089591    0.088434    0.088718    0.091589\n*C*C        0       0.052783    0.049318    0.054775    0.054251\n...                      ...         ...         ...         ...\n*ONNH2      3       0.064809    0.058924    0.063335    0.072197\nCH2*CO      0       0.038425    0.030774    0.041520    0.042980\n            1       0.051094    0.043823    0.054655    0.054811\n            2       0.062803    0.054990    0.066553    0.066853\n            3       0.075892    0.069196    0.082565    0.075869\n\n[272 rows x 4 columns]",
      "text/html": "<div>\n<style scoped>\n    .dataframe tbody tr th:only-of-type {\n        vertical-align: middle;\n    }\n\n    .dataframe tbody tr th {\n        vertical-align: top;\n    }\n\n    .dataframe thead th {\n        text-align: right;\n    }\n</style>\n<table border=\"1\" class=\"dataframe\">\n  <thead>\n    <tr style=\"text-align: right;\">\n      <th></th>\n      <th></th>\n      <th>force_mae</th>\n      <th>forcex_mae</th>\n      <th>forcey_mae</th>\n      <th>forcez_mae</th>\n    </tr>\n    <tr>\n      <th>ads_symbols</th>\n      <th>class</th>\n      <th></th>\n      <th></th>\n      <th></th>\n      <th></th>\n    </tr>\n  </thead>\n  <tbody>\n    <tr>\n      <th rowspan=\"4\" valign=\"top\">*C</th>\n      <th>0</th>\n      <td>0.058030</td>\n      <td>0.051253</td>\n      <td>0.058902</td>\n      <td>0.063935</td>\n    </tr>\n    <tr>\n      <th>1</th>\n      <td>0.075550</td>\n      <td>0.067887</td>\n      <td>0.079610</td>\n      <td>0.079145</td>\n    </tr>\n    <tr>\n      <th>2</th>\n      <td>0.087361</td>\n      <td>0.079949</td>\n      <td>0.088630</td>\n      <td>0.093484</td>\n    </tr>\n    <tr>\n      <th>3</th>\n      <td>0.089591</td>\n      <td>0.088434</td>\n      <td>0.088718</td>\n      <td>0.091589</td>\n    </tr>\n    <tr>\n      <th>*C*C</th>\n      <th>0</th>\n      <td>0.052783</td>\n      <td>0.049318</td>\n      <td>0.054775</td>\n      <td>0.054251</td>\n    </tr>\n    <tr>\n      <th>...</th>\n      <th>...</th>\n      <td>...</td>\n      <td>...</td>\n      <td>...</td>\n      <td>...</td>\n    </tr>\n    <tr>\n      <th>*ONNH2</th>\n      <th>3</th>\n      <td>0.064809</td>\n      <td>0.058924</td>\n      <td>0.063335</td>\n      <td>0.072197</td>\n    </tr>\n    <tr>\n      <th rowspan=\"4\" valign=\"top\">CH2*CO</th>\n      <th>0</th>\n      <td>0.038425</td>\n      <td>0.030774</td>\n      <td>0.041520</td>\n      <td>0.042980</td>\n    </tr>\n    <tr>\n      <th>1</th>\n      <td>0.051094</td>\n      <td>0.043823</td>\n      <td>0.054655</td>\n      <td>0.054811</td>\n    </tr>\n    <tr>\n      <th>2</th>\n      <td>0.062803</td>\n      <td>0.054990</td>\n      <td>0.066553</td>\n      <td>0.066853</td>\n    </tr>\n    <tr>\n      <th>3</th>\n      <td>0.075892</td>\n      <td>0.069196</td>\n      <td>0.082565</td>\n      <td>0.075869</td>\n    </tr>\n  </tbody>\n</table>\n<p>272 rows × 4 columns</p>\n</div>"
     },
     "execution_count": 62,
     "metadata": {},
     "output_type": "execute_result"
    }
   ],
   "source": [
    "df_force.groupby(['ads_symbols', 'class']).apply(force_stat)"
   ],
   "metadata": {
    "collapsed": false,
    "ExecuteTime": {
     "end_time": "2023-07-14T02:16:01.377100049Z",
     "start_time": "2023-07-14T02:15:54.253303033Z"
    }
   }
  },
  {
   "cell_type": "code",
   "execution_count": 13,
   "outputs": [
    {
     "data": {
      "text/plain": "                   force_mae  forcex_mae  forcey_mae  forcez_mae\nads_symbols class                                               \n*C          0       0.051669    0.044546    0.054334    0.056129\n            1       0.070813    0.067285    0.072991    0.072181\n            2       0.080176    0.074626    0.083771    0.082146\n            3       0.086012    0.090853    0.081938    0.085260\n*C*C        0       0.049400    0.046418    0.051859    0.049920\n...                      ...         ...         ...         ...\n*ONNH2      3       0.056726    0.046465    0.060687    0.063008\nCH2*CO      0       0.037822    0.031444    0.040714    0.041303\n            1       0.050589    0.045118    0.053703    0.052945\n            2       0.058639    0.052020    0.061890    0.061997\n            3       0.055324    0.048633    0.059645    0.057703\n\n[272 rows x 4 columns]",
      "text/html": "<div>\n<style scoped>\n    .dataframe tbody tr th:only-of-type {\n        vertical-align: middle;\n    }\n\n    .dataframe tbody tr th {\n        vertical-align: top;\n    }\n\n    .dataframe thead th {\n        text-align: right;\n    }\n</style>\n<table border=\"1\" class=\"dataframe\">\n  <thead>\n    <tr style=\"text-align: right;\">\n      <th></th>\n      <th></th>\n      <th>force_mae</th>\n      <th>forcex_mae</th>\n      <th>forcey_mae</th>\n      <th>forcez_mae</th>\n    </tr>\n    <tr>\n      <th>ads_symbols</th>\n      <th>class</th>\n      <th></th>\n      <th></th>\n      <th></th>\n      <th></th>\n    </tr>\n  </thead>\n  <tbody>\n    <tr>\n      <th rowspan=\"4\" valign=\"top\">*C</th>\n      <th>0</th>\n      <td>0.051669</td>\n      <td>0.044546</td>\n      <td>0.054334</td>\n      <td>0.056129</td>\n    </tr>\n    <tr>\n      <th>1</th>\n      <td>0.070813</td>\n      <td>0.067285</td>\n      <td>0.072991</td>\n      <td>0.072181</td>\n    </tr>\n    <tr>\n      <th>2</th>\n      <td>0.080176</td>\n      <td>0.074626</td>\n      <td>0.083771</td>\n      <td>0.082146</td>\n    </tr>\n    <tr>\n      <th>3</th>\n      <td>0.086012</td>\n      <td>0.090853</td>\n      <td>0.081938</td>\n      <td>0.085260</td>\n    </tr>\n    <tr>\n      <th>*C*C</th>\n      <th>0</th>\n      <td>0.049400</td>\n      <td>0.046418</td>\n      <td>0.051859</td>\n      <td>0.049920</td>\n    </tr>\n    <tr>\n      <th>...</th>\n      <th>...</th>\n      <td>...</td>\n      <td>...</td>\n      <td>...</td>\n      <td>...</td>\n    </tr>\n    <tr>\n      <th>*ONNH2</th>\n      <th>3</th>\n      <td>0.056726</td>\n      <td>0.046465</td>\n      <td>0.060687</td>\n      <td>0.063008</td>\n    </tr>\n    <tr>\n      <th rowspan=\"4\" valign=\"top\">CH2*CO</th>\n      <th>0</th>\n      <td>0.037822</td>\n      <td>0.031444</td>\n      <td>0.040714</td>\n      <td>0.041303</td>\n    </tr>\n    <tr>\n      <th>1</th>\n      <td>0.050589</td>\n      <td>0.045118</td>\n      <td>0.053703</td>\n      <td>0.052945</td>\n    </tr>\n    <tr>\n      <th>2</th>\n      <td>0.058639</td>\n      <td>0.052020</td>\n      <td>0.061890</td>\n      <td>0.061997</td>\n    </tr>\n    <tr>\n      <th>3</th>\n      <td>0.055324</td>\n      <td>0.048633</td>\n      <td>0.059645</td>\n      <td>0.057703</td>\n    </tr>\n  </tbody>\n</table>\n<p>272 rows × 4 columns</p>\n</div>"
     },
     "execution_count": 13,
     "metadata": {},
     "output_type": "execute_result"
    }
   ],
   "source": [
    "df_force.groupby(['ads_symbols', 'class']).apply(force_stat)"
   ],
   "metadata": {
    "collapsed": false,
    "ExecuteTime": {
     "end_time": "2023-07-14T01:44:05.356131381Z",
     "start_time": "2023-07-14T01:43:58.033305856Z"
    }
   }
  },
  {
   "cell_type": "code",
   "execution_count": 63,
   "outputs": [],
   "source": [
    "pd.concat([df_force.groupby(['tot', 'class']).apply(force_stat).reset_index(drop=False).rename(columns={'tot': 'ads_symbols'}),\n",
    "           df_force.groupby(['ads_symbols', 'class']).apply(force_stat).reset_index(drop=False)],\n",
    "          axis=0).to_csv('../data/val_ood_cat_force.csv', index=None)"
   ],
   "metadata": {
    "collapsed": false,
    "ExecuteTime": {
     "end_time": "2023-07-14T02:16:34.429394935Z",
     "start_time": "2023-07-14T02:16:20.302844994Z"
    }
   }
  },
  {
   "cell_type": "code",
   "execution_count": 64,
   "outputs": [],
   "source": [
    "df_energy = pd.DataFrame()\n",
    "df_energy['energy'] = s2ef_predictions['energy']\n",
    "df_energy['energy_label'] = s2ef_predictions['energy_label']\n",
    "df_energy['ids'] = s2ef_predictions['ids']\n",
    "df_energy['system_id'] = df_energy['ids'].apply(lambda x: 'random{}'.format(x.split('_')[0]))\n",
    "df_energy['frame_id'] = df_energy['ids'].apply(lambda x: 'frame{}'.format(x.split('_')[1]))"
   ],
   "metadata": {
    "collapsed": false,
    "ExecuteTime": {
     "end_time": "2023-07-14T02:16:35.839029942Z",
     "start_time": "2023-07-14T02:16:34.467335854Z"
    }
   }
  },
  {
   "cell_type": "code",
   "execution_count": 65,
   "outputs": [],
   "source": [
    "df_energy['energy_abs_e'] = df_energy[['energy', 'energy_label']].apply(lambda x: abs(x['energy'] - x['energy_label']), axis=1)\n",
    "df_energy['energy_sqr_e'] = df_energy[['energy', 'energy_label']].apply(lambda x: (x['energy'] - x['energy_label'])**2, axis=1)"
   ],
   "metadata": {
    "collapsed": false,
    "ExecuteTime": {
     "end_time": "2023-07-14T02:16:54.055287168Z",
     "start_time": "2023-07-14T02:16:35.871079166Z"
    }
   }
  },
  {
   "cell_type": "code",
   "execution_count": 66,
   "outputs": [],
   "source": [
    "df_energy = pd.merge(left=df_energy, right=df_summary, left_on=['system_id', 'frame_id'], right_on=['system_id', 'frame_id'], how='left')"
   ],
   "metadata": {
    "collapsed": false,
    "ExecuteTime": {
     "end_time": "2023-07-14T02:16:55.375293050Z",
     "start_time": "2023-07-14T02:16:54.055811820Z"
    }
   }
  },
  {
   "cell_type": "code",
   "execution_count": 67,
   "outputs": [
    {
     "data": {
      "text/plain": "     energy  energy_label          ids      system_id  frame_id  energy_abs_e  \\\n0  8.117188      9.515625   1000066_11  random1000066   frame11      1.398438   \n1  1.700195      1.919922  1000066_122  random1000066  frame122      0.219727   \n2  1.700195      1.878906  1000066_133  random1000066  frame133      0.178711   \n3  1.694336      1.819336  1000066_148  random1000066  frame148      0.125000   \n4  1.264648      1.482422  1000066_167  random1000066  frame167      0.217773   \n\n   energy_sqr_e  bulk_id  ads_id bulk_mpid bulk_symbols ads_symbols  \\\n0      1.955627     1287      60   mp-2330       Se6Nb4    *OHNNCH3   \n1      0.048280     1287      60   mp-2330       Se6Nb4    *OHNNCH3   \n2      0.031938     1287      60   mp-2330       Se6Nb4    *OHNNCH3   \n3      0.015625     1287      60   mp-2330       Se6Nb4    *OHNNCH3   \n4      0.047425     1287      60   mp-2330       Se6Nb4    *OHNNCH3   \n\n  miller_index  shift   top          adsorption_site  class  anomaly  \n0    (1, 1, 1)  0.096  True  ((13.81, 2.92, 30.05),)      2        1  \n1    (1, 1, 1)  0.096  True  ((13.81, 2.92, 30.05),)      2        1  \n2    (1, 1, 1)  0.096  True  ((13.81, 2.92, 30.05),)      2        1  \n3    (1, 1, 1)  0.096  True  ((13.81, 2.92, 30.05),)      2        1  \n4    (1, 1, 1)  0.096  True  ((13.81, 2.92, 30.05),)      2        1  ",
      "text/html": "<div>\n<style scoped>\n    .dataframe tbody tr th:only-of-type {\n        vertical-align: middle;\n    }\n\n    .dataframe tbody tr th {\n        vertical-align: top;\n    }\n\n    .dataframe thead th {\n        text-align: right;\n    }\n</style>\n<table border=\"1\" class=\"dataframe\">\n  <thead>\n    <tr style=\"text-align: right;\">\n      <th></th>\n      <th>energy</th>\n      <th>energy_label</th>\n      <th>ids</th>\n      <th>system_id</th>\n      <th>frame_id</th>\n      <th>energy_abs_e</th>\n      <th>energy_sqr_e</th>\n      <th>bulk_id</th>\n      <th>ads_id</th>\n      <th>bulk_mpid</th>\n      <th>bulk_symbols</th>\n      <th>ads_symbols</th>\n      <th>miller_index</th>\n      <th>shift</th>\n      <th>top</th>\n      <th>adsorption_site</th>\n      <th>class</th>\n      <th>anomaly</th>\n    </tr>\n  </thead>\n  <tbody>\n    <tr>\n      <th>0</th>\n      <td>8.117188</td>\n      <td>9.515625</td>\n      <td>1000066_11</td>\n      <td>random1000066</td>\n      <td>frame11</td>\n      <td>1.398438</td>\n      <td>1.955627</td>\n      <td>1287</td>\n      <td>60</td>\n      <td>mp-2330</td>\n      <td>Se6Nb4</td>\n      <td>*OHNNCH3</td>\n      <td>(1, 1, 1)</td>\n      <td>0.096</td>\n      <td>True</td>\n      <td>((13.81, 2.92, 30.05),)</td>\n      <td>2</td>\n      <td>1</td>\n    </tr>\n    <tr>\n      <th>1</th>\n      <td>1.700195</td>\n      <td>1.919922</td>\n      <td>1000066_122</td>\n      <td>random1000066</td>\n      <td>frame122</td>\n      <td>0.219727</td>\n      <td>0.048280</td>\n      <td>1287</td>\n      <td>60</td>\n      <td>mp-2330</td>\n      <td>Se6Nb4</td>\n      <td>*OHNNCH3</td>\n      <td>(1, 1, 1)</td>\n      <td>0.096</td>\n      <td>True</td>\n      <td>((13.81, 2.92, 30.05),)</td>\n      <td>2</td>\n      <td>1</td>\n    </tr>\n    <tr>\n      <th>2</th>\n      <td>1.700195</td>\n      <td>1.878906</td>\n      <td>1000066_133</td>\n      <td>random1000066</td>\n      <td>frame133</td>\n      <td>0.178711</td>\n      <td>0.031938</td>\n      <td>1287</td>\n      <td>60</td>\n      <td>mp-2330</td>\n      <td>Se6Nb4</td>\n      <td>*OHNNCH3</td>\n      <td>(1, 1, 1)</td>\n      <td>0.096</td>\n      <td>True</td>\n      <td>((13.81, 2.92, 30.05),)</td>\n      <td>2</td>\n      <td>1</td>\n    </tr>\n    <tr>\n      <th>3</th>\n      <td>1.694336</td>\n      <td>1.819336</td>\n      <td>1000066_148</td>\n      <td>random1000066</td>\n      <td>frame148</td>\n      <td>0.125000</td>\n      <td>0.015625</td>\n      <td>1287</td>\n      <td>60</td>\n      <td>mp-2330</td>\n      <td>Se6Nb4</td>\n      <td>*OHNNCH3</td>\n      <td>(1, 1, 1)</td>\n      <td>0.096</td>\n      <td>True</td>\n      <td>((13.81, 2.92, 30.05),)</td>\n      <td>2</td>\n      <td>1</td>\n    </tr>\n    <tr>\n      <th>4</th>\n      <td>1.264648</td>\n      <td>1.482422</td>\n      <td>1000066_167</td>\n      <td>random1000066</td>\n      <td>frame167</td>\n      <td>0.217773</td>\n      <td>0.047425</td>\n      <td>1287</td>\n      <td>60</td>\n      <td>mp-2330</td>\n      <td>Se6Nb4</td>\n      <td>*OHNNCH3</td>\n      <td>(1, 1, 1)</td>\n      <td>0.096</td>\n      <td>True</td>\n      <td>((13.81, 2.92, 30.05),)</td>\n      <td>2</td>\n      <td>1</td>\n    </tr>\n  </tbody>\n</table>\n</div>"
     },
     "execution_count": 67,
     "metadata": {},
     "output_type": "execute_result"
    }
   ],
   "source": [
    "df_energy.head()"
   ],
   "metadata": {
    "collapsed": false,
    "ExecuteTime": {
     "end_time": "2023-07-14T02:16:55.400737750Z",
     "start_time": "2023-07-14T02:16:55.388813706Z"
    }
   }
  },
  {
   "cell_type": "code",
   "execution_count": 68,
   "outputs": [],
   "source": [
    "def energy_stat(df_energy):\n",
    "    batch_size = 128\n",
    "    index= {'energy_abs_e': 0, 'energy_abs_e_tot': 0, 'energy_sqr_e': 0, 'energy_sqr_e_tot': 0}\n",
    "    for i in range(math.ceil(df_energy.shape[0]/batch_size)):\n",
    "        temp = df_energy.iloc[i*batch_size:(i+1)*batch_size]\n",
    "        index['energy_abs_e'] += temp['energy_abs_e'].sum()\n",
    "        index['energy_abs_e_tot'] += temp['energy_abs_e'].shape[0]\n",
    "        index['energy_sqr_e'] += temp['energy_sqr_e'].sum()\n",
    "        index['energy_sqr_e_tot'] += temp['energy_sqr_e'].shape[0]\n",
    "    return pd.Series([index['energy_abs_e']/index['energy_abs_e_tot'], index['energy_sqr_e']/index['energy_sqr_e_tot']],\n",
    "                     index=['energy_abs_e', 'energy_sqr_e'])"
   ],
   "metadata": {
    "collapsed": false,
    "ExecuteTime": {
     "end_time": "2023-07-14T02:17:01.920782928Z",
     "start_time": "2023-07-14T02:17:01.906934352Z"
    }
   }
  },
  {
   "cell_type": "code",
   "execution_count": 69,
   "outputs": [],
   "source": [
    "df_energy['tot'] = 'tot'"
   ],
   "metadata": {
    "collapsed": false,
    "ExecuteTime": {
     "end_time": "2023-07-14T02:17:14.057641243Z",
     "start_time": "2023-07-14T02:17:14.039335066Z"
    }
   }
  },
  {
   "cell_type": "code",
   "execution_count": 70,
   "outputs": [
    {
     "data": {
      "text/plain": "     energy_abs_e  energy_sqr_e\ntot                            \ntot      0.603336      4.332628",
      "text/html": "<div>\n<style scoped>\n    .dataframe tbody tr th:only-of-type {\n        vertical-align: middle;\n    }\n\n    .dataframe tbody tr th {\n        vertical-align: top;\n    }\n\n    .dataframe thead th {\n        text-align: right;\n    }\n</style>\n<table border=\"1\" class=\"dataframe\">\n  <thead>\n    <tr style=\"text-align: right;\">\n      <th></th>\n      <th>energy_abs_e</th>\n      <th>energy_sqr_e</th>\n    </tr>\n    <tr>\n      <th>tot</th>\n      <th></th>\n      <th></th>\n    </tr>\n  </thead>\n  <tbody>\n    <tr>\n      <th>tot</th>\n      <td>0.603336</td>\n      <td>4.332628</td>\n    </tr>\n  </tbody>\n</table>\n</div>"
     },
     "execution_count": 70,
     "metadata": {},
     "output_type": "execute_result"
    }
   ],
   "source": [
    "df_energy.groupby('tot').apply(energy_stat)"
   ],
   "metadata": {
    "collapsed": false,
    "ExecuteTime": {
     "end_time": "2023-07-14T02:17:25.541019049Z",
     "start_time": "2023-07-14T02:17:22.658116841Z"
    }
   }
  },
  {
   "cell_type": "code",
   "execution_count": 26,
   "outputs": [
    {
     "data": {
      "text/plain": "     energy_abs_e  energy_sqr_e\ntot                            \ntot      0.446813      0.716775",
      "text/html": "<div>\n<style scoped>\n    .dataframe tbody tr th:only-of-type {\n        vertical-align: middle;\n    }\n\n    .dataframe tbody tr th {\n        vertical-align: top;\n    }\n\n    .dataframe thead th {\n        text-align: right;\n    }\n</style>\n<table border=\"1\" class=\"dataframe\">\n  <thead>\n    <tr style=\"text-align: right;\">\n      <th></th>\n      <th>energy_abs_e</th>\n      <th>energy_sqr_e</th>\n    </tr>\n    <tr>\n      <th>tot</th>\n      <th></th>\n      <th></th>\n    </tr>\n  </thead>\n  <tbody>\n    <tr>\n      <th>tot</th>\n      <td>0.446813</td>\n      <td>0.716775</td>\n    </tr>\n  </tbody>\n</table>\n</div>"
     },
     "execution_count": 26,
     "metadata": {},
     "output_type": "execute_result"
    }
   ],
   "source": [
    "df_energy.groupby('tot').apply(energy_stat)"
   ],
   "metadata": {
    "collapsed": false,
    "ExecuteTime": {
     "end_time": "2023-07-14T01:55:49.290870565Z",
     "start_time": "2023-07-14T01:55:46.703306094Z"
    }
   }
  },
  {
   "cell_type": "code",
   "execution_count": 71,
   "outputs": [
    {
     "data": {
      "text/plain": "   tot  class  energy_abs_e  energy_sqr_e\n0  tot      0      0.251029      0.163676\n1  tot      1      0.496527      0.894868\n2  tot      2      1.234117     13.589407\n3  tot      3      0.699252      1.205068",
      "text/html": "<div>\n<style scoped>\n    .dataframe tbody tr th:only-of-type {\n        vertical-align: middle;\n    }\n\n    .dataframe tbody tr th {\n        vertical-align: top;\n    }\n\n    .dataframe thead th {\n        text-align: right;\n    }\n</style>\n<table border=\"1\" class=\"dataframe\">\n  <thead>\n    <tr style=\"text-align: right;\">\n      <th></th>\n      <th>tot</th>\n      <th>class</th>\n      <th>energy_abs_e</th>\n      <th>energy_sqr_e</th>\n    </tr>\n  </thead>\n  <tbody>\n    <tr>\n      <th>0</th>\n      <td>tot</td>\n      <td>0</td>\n      <td>0.251029</td>\n      <td>0.163676</td>\n    </tr>\n    <tr>\n      <th>1</th>\n      <td>tot</td>\n      <td>1</td>\n      <td>0.496527</td>\n      <td>0.894868</td>\n    </tr>\n    <tr>\n      <th>2</th>\n      <td>tot</td>\n      <td>2</td>\n      <td>1.234117</td>\n      <td>13.589407</td>\n    </tr>\n    <tr>\n      <th>3</th>\n      <td>tot</td>\n      <td>3</td>\n      <td>0.699252</td>\n      <td>1.205068</td>\n    </tr>\n  </tbody>\n</table>\n</div>"
     },
     "execution_count": 71,
     "metadata": {},
     "output_type": "execute_result"
    }
   ],
   "source": [
    "df_energy.groupby(['tot', 'class']).apply(energy_stat).reset_index(drop=False)"
   ],
   "metadata": {
    "collapsed": false,
    "ExecuteTime": {
     "end_time": "2023-07-14T02:17:38.588228322Z",
     "start_time": "2023-07-14T02:17:35.739494757Z"
    }
   }
  },
  {
   "cell_type": "code",
   "execution_count": 28,
   "outputs": [
    {
     "data": {
      "text/plain": "   tot  class  energy_abs_e  energy_sqr_e\n0  tot      0      0.219624      0.114614\n1  tot      1      0.438379      0.534101\n2  tot      2      0.724752      1.582577\n3  tot      3      0.679711      1.233938",
      "text/html": "<div>\n<style scoped>\n    .dataframe tbody tr th:only-of-type {\n        vertical-align: middle;\n    }\n\n    .dataframe tbody tr th {\n        vertical-align: top;\n    }\n\n    .dataframe thead th {\n        text-align: right;\n    }\n</style>\n<table border=\"1\" class=\"dataframe\">\n  <thead>\n    <tr style=\"text-align: right;\">\n      <th></th>\n      <th>tot</th>\n      <th>class</th>\n      <th>energy_abs_e</th>\n      <th>energy_sqr_e</th>\n    </tr>\n  </thead>\n  <tbody>\n    <tr>\n      <th>0</th>\n      <td>tot</td>\n      <td>0</td>\n      <td>0.219624</td>\n      <td>0.114614</td>\n    </tr>\n    <tr>\n      <th>1</th>\n      <td>tot</td>\n      <td>1</td>\n      <td>0.438379</td>\n      <td>0.534101</td>\n    </tr>\n    <tr>\n      <th>2</th>\n      <td>tot</td>\n      <td>2</td>\n      <td>0.724752</td>\n      <td>1.582577</td>\n    </tr>\n    <tr>\n      <th>3</th>\n      <td>tot</td>\n      <td>3</td>\n      <td>0.679711</td>\n      <td>1.233938</td>\n    </tr>\n  </tbody>\n</table>\n</div>"
     },
     "execution_count": 28,
     "metadata": {},
     "output_type": "execute_result"
    }
   ],
   "source": [
    "df_energy.groupby(['tot', 'class']).apply(energy_stat).reset_index(drop=False)"
   ],
   "metadata": {
    "collapsed": false,
    "ExecuteTime": {
     "end_time": "2023-07-14T01:58:07.427232255Z",
     "start_time": "2023-07-14T01:58:04.299667789Z"
    }
   }
  },
  {
   "cell_type": "code",
   "execution_count": 72,
   "outputs": [
    {
     "data": {
      "text/plain": "                   energy_abs_e  energy_sqr_e\nads_symbols class                            \n*C          0          0.304751      0.189954\n            1          0.633678      0.988742\n            2          1.277577      4.386955\n            3          1.003200      2.013195\n*C*C        0          0.307063      0.211179\n...                         ...           ...\n*ONNH2      3          0.621730      0.846417\nCH2*CO      0          0.240429      0.125254\n            1          0.486809      0.788576\n            2          0.829453      2.367818\n            3          0.744740      1.230131\n\n[272 rows x 2 columns]",
      "text/html": "<div>\n<style scoped>\n    .dataframe tbody tr th:only-of-type {\n        vertical-align: middle;\n    }\n\n    .dataframe tbody tr th {\n        vertical-align: top;\n    }\n\n    .dataframe thead th {\n        text-align: right;\n    }\n</style>\n<table border=\"1\" class=\"dataframe\">\n  <thead>\n    <tr style=\"text-align: right;\">\n      <th></th>\n      <th></th>\n      <th>energy_abs_e</th>\n      <th>energy_sqr_e</th>\n    </tr>\n    <tr>\n      <th>ads_symbols</th>\n      <th>class</th>\n      <th></th>\n      <th></th>\n    </tr>\n  </thead>\n  <tbody>\n    <tr>\n      <th rowspan=\"4\" valign=\"top\">*C</th>\n      <th>0</th>\n      <td>0.304751</td>\n      <td>0.189954</td>\n    </tr>\n    <tr>\n      <th>1</th>\n      <td>0.633678</td>\n      <td>0.988742</td>\n    </tr>\n    <tr>\n      <th>2</th>\n      <td>1.277577</td>\n      <td>4.386955</td>\n    </tr>\n    <tr>\n      <th>3</th>\n      <td>1.003200</td>\n      <td>2.013195</td>\n    </tr>\n    <tr>\n      <th>*C*C</th>\n      <th>0</th>\n      <td>0.307063</td>\n      <td>0.211179</td>\n    </tr>\n    <tr>\n      <th>...</th>\n      <th>...</th>\n      <td>...</td>\n      <td>...</td>\n    </tr>\n    <tr>\n      <th>*ONNH2</th>\n      <th>3</th>\n      <td>0.621730</td>\n      <td>0.846417</td>\n    </tr>\n    <tr>\n      <th rowspan=\"4\" valign=\"top\">CH2*CO</th>\n      <th>0</th>\n      <td>0.240429</td>\n      <td>0.125254</td>\n    </tr>\n    <tr>\n      <th>1</th>\n      <td>0.486809</td>\n      <td>0.788576</td>\n    </tr>\n    <tr>\n      <th>2</th>\n      <td>0.829453</td>\n      <td>2.367818</td>\n    </tr>\n    <tr>\n      <th>3</th>\n      <td>0.744740</td>\n      <td>1.230131</td>\n    </tr>\n  </tbody>\n</table>\n<p>272 rows × 2 columns</p>\n</div>"
     },
     "execution_count": 72,
     "metadata": {},
     "output_type": "execute_result"
    }
   ],
   "source": [
    "df_energy.groupby(['ads_symbols', 'class']).apply(energy_stat)"
   ],
   "metadata": {
    "collapsed": false,
    "ExecuteTime": {
     "end_time": "2023-07-14T02:18:01.105921521Z",
     "start_time": "2023-07-14T02:17:58.121106230Z"
    }
   }
  },
  {
   "cell_type": "code",
   "execution_count": 36,
   "outputs": [
    {
     "data": {
      "text/plain": "                   energy_abs_e  energy_sqr_e\nads_symbols class                            \n*C          0          0.271506      0.164877\n            1          0.611988      0.879887\n            2          0.831009      1.441534\n            3          1.212325      2.884799\n*C*C        0          0.253115      0.136425\n...                         ...           ...\n*ONNH2      3          0.845318      6.114027\nCH2*CO      0          0.205702      0.101487\n            1          0.438689      0.668835\n            2          0.619055      1.135121\n            3          0.633050      1.135119\n\n[272 rows x 2 columns]",
      "text/html": "<div>\n<style scoped>\n    .dataframe tbody tr th:only-of-type {\n        vertical-align: middle;\n    }\n\n    .dataframe tbody tr th {\n        vertical-align: top;\n    }\n\n    .dataframe thead th {\n        text-align: right;\n    }\n</style>\n<table border=\"1\" class=\"dataframe\">\n  <thead>\n    <tr style=\"text-align: right;\">\n      <th></th>\n      <th></th>\n      <th>energy_abs_e</th>\n      <th>energy_sqr_e</th>\n    </tr>\n    <tr>\n      <th>ads_symbols</th>\n      <th>class</th>\n      <th></th>\n      <th></th>\n    </tr>\n  </thead>\n  <tbody>\n    <tr>\n      <th rowspan=\"4\" valign=\"top\">*C</th>\n      <th>0</th>\n      <td>0.271506</td>\n      <td>0.164877</td>\n    </tr>\n    <tr>\n      <th>1</th>\n      <td>0.611988</td>\n      <td>0.879887</td>\n    </tr>\n    <tr>\n      <th>2</th>\n      <td>0.831009</td>\n      <td>1.441534</td>\n    </tr>\n    <tr>\n      <th>3</th>\n      <td>1.212325</td>\n      <td>2.884799</td>\n    </tr>\n    <tr>\n      <th>*C*C</th>\n      <th>0</th>\n      <td>0.253115</td>\n      <td>0.136425</td>\n    </tr>\n    <tr>\n      <th>...</th>\n      <th>...</th>\n      <td>...</td>\n      <td>...</td>\n    </tr>\n    <tr>\n      <th>*ONNH2</th>\n      <th>3</th>\n      <td>0.845318</td>\n      <td>6.114027</td>\n    </tr>\n    <tr>\n      <th rowspan=\"4\" valign=\"top\">CH2*CO</th>\n      <th>0</th>\n      <td>0.205702</td>\n      <td>0.101487</td>\n    </tr>\n    <tr>\n      <th>1</th>\n      <td>0.438689</td>\n      <td>0.668835</td>\n    </tr>\n    <tr>\n      <th>2</th>\n      <td>0.619055</td>\n      <td>1.135121</td>\n    </tr>\n    <tr>\n      <th>3</th>\n      <td>0.633050</td>\n      <td>1.135119</td>\n    </tr>\n  </tbody>\n</table>\n<p>272 rows × 2 columns</p>\n</div>"
     },
     "execution_count": 36,
     "metadata": {},
     "output_type": "execute_result"
    }
   ],
   "source": [
    "df_energy.groupby(['ads_symbols', 'class']).apply(energy_stat)"
   ],
   "metadata": {
    "collapsed": false,
    "ExecuteTime": {
     "end_time": "2023-07-14T02:03:29.161620527Z",
     "start_time": "2023-07-14T02:03:26.031142252Z"
    }
   }
  },
  {
   "cell_type": "code",
   "execution_count": 73,
   "outputs": [],
   "source": [
    "pd.concat([df_energy.groupby(['tot', 'class']).apply(energy_stat).reset_index(drop=False).rename(columns={'tot': 'ads_symbols'}),\n",
    "           df_energy.groupby(['ads_symbols', 'class']).apply(energy_stat).reset_index(drop=False)],\n",
    "          axis=0).to_csv('../data/val_ood_cat_energy.csv', index=None)"
   ],
   "metadata": {
    "collapsed": false,
    "ExecuteTime": {
     "end_time": "2023-07-14T02:18:21.192863999Z",
     "start_time": "2023-07-14T02:18:15.529834319Z"
    }
   }
  },
  {
   "cell_type": "code",
   "execution_count": null,
   "outputs": [],
   "source": [],
   "metadata": {
    "collapsed": false
   }
  }
 ],
 "metadata": {
  "kernelspec": {
   "display_name": "Python 3",
   "language": "python",
   "name": "python3"
  },
  "language_info": {
   "codemirror_mode": {
    "name": "ipython",
    "version": 2
   },
   "file_extension": ".py",
   "mimetype": "text/x-python",
   "name": "python",
   "nbconvert_exporter": "python",
   "pygments_lexer": "ipython2",
   "version": "2.7.6"
  }
 },
 "nbformat": 4,
 "nbformat_minor": 0
}
