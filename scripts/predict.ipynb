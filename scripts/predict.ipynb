{
 "cells": [
  {
   "cell_type": "code",
   "execution_count": 1,
   "metadata": {
    "collapsed": true,
    "ExecuteTime": {
     "end_time": "2023-07-12T04:03:15.370521954Z",
     "start_time": "2023-07-12T04:03:15.287641861Z"
    }
   },
   "outputs": [],
   "source": [
    "import numpy as np"
   ]
  },
  {
   "cell_type": "code",
   "execution_count": 35,
   "outputs": [],
   "source": [
    "s2ef_predictions = np.load('../results/2023-07-12-13-24-16/s2ef_predictions.npz')"
   ],
   "metadata": {
    "collapsed": false,
    "ExecuteTime": {
     "end_time": "2023-07-12T05:25:41.255516283Z",
     "start_time": "2023-07-12T05:25:41.213779924Z"
    }
   }
  },
  {
   "cell_type": "code",
   "execution_count": 36,
   "outputs": [
    {
     "data": {
      "text/plain": "(1200,)"
     },
     "execution_count": 36,
     "metadata": {},
     "output_type": "execute_result"
    }
   ],
   "source": [
    "s2ef_predictions['ids'].shape"
   ],
   "metadata": {
    "collapsed": false,
    "ExecuteTime": {
     "end_time": "2023-07-12T05:25:53.496034586Z",
     "start_time": "2023-07-12T05:25:53.449334068Z"
    }
   }
  },
  {
   "cell_type": "code",
   "execution_count": 54,
   "outputs": [],
   "source": [
    "import pandas as pd"
   ],
   "metadata": {
    "collapsed": false,
    "ExecuteTime": {
     "end_time": "2023-07-12T05:47:59.283508717Z",
     "start_time": "2023-07-12T05:47:59.229052527Z"
    }
   }
  },
  {
   "cell_type": "code",
   "execution_count": 55,
   "outputs": [],
   "source": [
    "chunk_size = [i.shape[0] for i in  np.array_split(s2ef_predictions['forces'], s2ef_predictions['chunk_idx'])]\n",
    "ids = []\n",
    "for i in range(s2ef_predictions['ids'].shape[0]):\n",
    "    ids.extend([s2ef_predictions['ids'][i]] * chunk_size[i])\n",
    "df = pd.DataFrame(s2ef_predictions['forces'], columns=['x', 'y', 'z'])\n",
    "df['ids'] = ids\n",
    "df['system_id'] = df['ids'].apply(lambda x: x.split('_')[0])\n",
    "df['frame_id'] = df['ids'].apply(lambda x: x.split('_')[1])"
   ],
   "metadata": {
    "collapsed": false,
    "ExecuteTime": {
     "end_time": "2023-07-12T05:48:01.373776040Z",
     "start_time": "2023-07-12T05:48:00.518957810Z"
    }
   }
  },
  {
   "cell_type": "code",
   "execution_count": null,
   "outputs": [],
   "source": [],
   "metadata": {
    "collapsed": false
   }
  }
 ],
 "metadata": {
  "kernelspec": {
   "display_name": "Python 3",
   "language": "python",
   "name": "python3"
  },
  "language_info": {
   "codemirror_mode": {
    "name": "ipython",
    "version": 2
   },
   "file_extension": ".py",
   "mimetype": "text/x-python",
   "name": "python",
   "nbconvert_exporter": "python",
   "pygments_lexer": "ipython2",
   "version": "2.7.6"
  }
 },
 "nbformat": 4,
 "nbformat_minor": 0
}
