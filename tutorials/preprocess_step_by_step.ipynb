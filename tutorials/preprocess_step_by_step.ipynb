{
 "cells": [
  {
   "cell_type": "code",
   "execution_count": 1,
   "outputs": [],
   "source": [
    "import os\n",
    "from scripts.download_data import uncompress_data, preprocess_data, verify_count"
   ],
   "metadata": {
    "collapsed": false,
    "ExecuteTime": {
     "end_time": "2023-09-21T08:56:46.029954100Z",
     "start_time": "2023-09-21T08:56:45.992884500Z"
    }
   }
  },
  {
   "cell_type": "code",
   "execution_count": 25,
   "outputs": [
    {
     "data": {
      "text/plain": "'/mnt/data1/s2ef_val_ood_cat.tar'"
     },
     "execution_count": 25,
     "metadata": {},
     "output_type": "execute_result"
    }
   ],
   "source": [
    "tar_name = 's2ef_val_ood_cat.tar'\n",
    "datadir = '/mnt/data1'\n",
    "filename = os.path.join(datadir, tar_name)\n",
    "filename"
   ],
   "metadata": {
    "collapsed": false,
    "ExecuteTime": {
     "end_time": "2023-07-13T03:53:10.760259712Z",
     "start_time": "2023-07-13T03:53:10.725173394Z"
    }
   }
  },
  {
   "cell_type": "code",
   "execution_count": 24,
   "outputs": [
    {
     "data": {
      "text/plain": "'/mnt/data1/s2ef_val_ood_cat'"
     },
     "execution_count": 24,
     "metadata": {},
     "output_type": "execute_result"
    }
   ],
   "source": [
    "# save tar to datadir\n",
    "# untar it with tar -xvf {filename} -C {datadir}\n",
    "# then you have the uncompressed directory dirname='/mnt/data1/s2ef_val_ood_cat'\n",
    "dirname = os.path.join(\n",
    "    datadir,\n",
    "    os.path.basename(filename).split(\".\")[0],\n",
    ")\n",
    "dirname"
   ],
   "metadata": {
    "collapsed": false,
    "ExecuteTime": {
     "end_time": "2023-07-13T03:52:58.102483698Z",
     "start_time": "2023-07-13T03:52:58.024502827Z"
    }
   }
  },
  {
   "cell_type": "code",
   "execution_count": 23,
   "outputs": [
    {
     "data": {
      "text/plain": "'/mnt/data1/s2ef_val_ood_cat/s2ef_val_ood_cat'"
     },
     "execution_count": 23,
     "metadata": {},
     "output_type": "execute_result"
    }
   ],
   "source": [
    "# inside dirname you will see the README as well as another subdir\n",
    "# which the raw compressed .xz files are stored in\n",
    "compressed_dir = os.path.join(dirname, os.path.basename(dirname))\n",
    "compressed_dir"
   ],
   "metadata": {
    "collapsed": false,
    "ExecuteTime": {
     "end_time": "2023-07-13T03:52:49.654204535Z",
     "start_time": "2023-07-13T03:52:49.616493959Z"
    }
   }
  },
  {
   "cell_type": "code",
   "execution_count": 32,
   "outputs": [
    {
     "name": "stderr",
     "output_type": "stream",
     "text": [
      "Uncompressing /mnt/data1/s2ef_val_ood_cat/s2ef_val_ood_cat: 100%|██████████| 400/400 [00:05<00:00, 68.31it/s] \n"
     ]
    }
   ],
   "source": [
    "# alternatively, you may use \"python uncompress.py --ipdir /mnt/data1/s2ef_val_ood_cat/s2ef_val_ood_cat --opdir '/mnt/data1/s2ef_val_ood_cat_uncompressed' --num-workers 4\"\n",
    "uncompressed_dir = uncompress_data(compressed_dir)"
   ],
   "metadata": {
    "collapsed": false,
    "ExecuteTime": {
     "end_time": "2023-07-13T04:01:26.630743111Z",
     "start_time": "2023-07-13T04:01:20.320477682Z"
    }
   }
  },
  {
   "cell_type": "code",
   "execution_count": 33,
   "outputs": [
    {
     "data": {
      "text/plain": "'/mnt/data1/s2ef_val_ood_cat_uncompressed'"
     },
     "execution_count": 33,
     "metadata": {},
     "output_type": "execute_result"
    }
   ],
   "source": [
    "# you will see txt and extxyz files in the uncompressed_dir\n",
    "uncompressed_dir"
   ],
   "metadata": {
    "collapsed": false,
    "ExecuteTime": {
     "end_time": "2023-07-13T04:01:38.824273867Z",
     "start_time": "2023-07-13T04:01:38.754877625Z"
    }
   }
  },
  {
   "cell_type": "code",
   "execution_count": 34,
   "outputs": [
    {
     "data": {
      "text/plain": "'/mnt/data1/s2ef/all/val_ood_cat'"
     },
     "execution_count": 34,
     "metadata": {},
     "output_type": "execute_result"
    }
   ],
   "source": [
    "task = 's2ef'\n",
    "split = 'val_ood_cat'\n",
    "if split in [\"200k\", \"2M\", \"20M\", \"all\", \"rattled\", \"md\"]:\n",
    "    output_path = os.path.join(datadir, task, split, \"train\")\n",
    "else:\n",
    "    output_path = os.path.join(datadir, task, \"all\", split)\n",
    "# then you preprocess the txt and extxyz files, which are saved in uncompressed_dir,\n",
    "# to lmdb, which are saved in output_path\n",
    "output_path"
   ],
   "metadata": {
    "collapsed": false,
    "ExecuteTime": {
     "end_time": "2023-07-13T04:04:11.860244679Z",
     "start_time": "2023-07-13T04:04:11.835021935Z"
    }
   }
  },
  {
   "cell_type": "code",
   "execution_count": null,
   "outputs": [
    {
     "name": "stderr",
     "output_type": "stream",
     "text": [
      "Preprocessing data into LMDBs:   3%|▎         | 33490/1000000 [03:50<1:38:13, 164.00it/s]"
     ]
    }
   ],
   "source": [
    "# alternatively, you may use \"python preprocess_df.py\n",
    "# --data-path {uncompressed_dir} --out-path {output_path}\n",
    "# --num-workers 4 --get-edges --ref-energy\"\n",
    "preprocess_data(uncompressed_dir, output_path)"
   ],
   "metadata": {
    "collapsed": false,
    "is_executing": true,
    "ExecuteTime": {
     "start_time": "2023-07-13T04:06:06.275868844Z"
    }
   }
  },
  {
   "cell_type": "code",
   "execution_count": null,
   "outputs": [],
   "source": [
    "verify_count(output_path, task, split)"
   ],
   "metadata": {
    "collapsed": false
   }
  }
 ],
 "metadata": {
  "kernelspec": {
   "display_name": "Python 3",
   "language": "python",
   "name": "python3"
  },
  "language_info": {
   "codemirror_mode": {
    "name": "ipython",
    "version": 2
   },
   "file_extension": ".py",
   "mimetype": "text/x-python",
   "name": "python",
   "nbconvert_exporter": "python",
   "pygments_lexer": "ipython2",
   "version": "2.7.6"
  }
 },
 "nbformat": 4,
 "nbformat_minor": 0
}
