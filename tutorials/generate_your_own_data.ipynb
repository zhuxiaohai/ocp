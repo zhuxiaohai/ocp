{
 "cells": [
  {
   "cell_type": "code",
   "execution_count": 1,
   "metadata": {
    "collapsed": true,
    "ExecuteTime": {
     "end_time": "2023-07-20T14:42:02.498209305Z",
     "start_time": "2023-07-20T14:42:02.029225670Z"
    }
   },
   "outputs": [],
   "source": [
    "import glob\n",
    "import os\n",
    "import random\n",
    "import joblib\n",
    "\n",
    "import numpy as np\n",
    "import pandas as pd\n",
    "import ase.io\n",
    "from ase.io import extxyz\n",
    "from ase.visualize.plot import plot_atoms\n",
    "from ase.constraints import FixAtoms"
   ]
  },
  {
   "cell_type": "code",
   "execution_count": 65,
   "outputs": [
    {
     "name": "stdout",
     "output_type": "stream",
     "text": [
      "skipping test\n"
     ]
    }
   ],
   "source": [
    "input_dir = '/mnt/data1/non-tar/Zn-Cr-O'\n",
    "output_dir = '/mnt/data1/ocp_data/data'\n",
    "test_dir_name = 'ZPL_Cr9O23Zn9'\n",
    "data_list = []\n",
    "sids = os.listdir(input_dir)\n",
    "for sid in sids:\n",
    "    if sid == test_dir_name:\n",
    "        print('skipping test')\n",
    "        continue\n",
    "    traj_path = glob.glob(os.path.join(input_dir, sid, \"*.xyz\"))\n",
    "    if len(traj_path) > 1:\n",
    "        print(sid)\n",
    "    traj_frames = ase.io.read(traj_path[0], \":\")\n",
    "    for fid in range(len(traj_frames)):\n",
    "        data_list.append((sid, fid, 0.0))\n",
    "traj_path = glob.glob(os.path.join(input_dir, test_dir_name, \"*.xyz\"))\n",
    "if len(traj_path) > 1:\n",
    "    print(sid)\n",
    "traj_frames = ase.io.read(traj_path[0], \":\")\n",
    "test_list = []\n",
    "for fid in range(len(traj_frames)):\n",
    "    test_list.append((sid, fid, 0.0))"
   ],
   "metadata": {
    "collapsed": false,
    "ExecuteTime": {
     "end_time": "2023-07-19T01:04:04.967336849Z",
     "start_time": "2023-07-19T01:02:58.098192965Z"
    }
   }
  },
  {
   "cell_type": "code",
   "execution_count": 66,
   "outputs": [
    {
     "data": {
      "text/plain": "(107352, 115)"
     },
     "execution_count": 66,
     "metadata": {},
     "output_type": "execute_result"
    }
   ],
   "source": [
    "len(data_list), len(test_list)"
   ],
   "metadata": {
    "collapsed": false,
    "ExecuteTime": {
     "end_time": "2023-07-19T01:04:04.973099904Z",
     "start_time": "2023-07-19T01:04:04.967835582Z"
    }
   }
  },
  {
   "cell_type": "code",
   "execution_count": 67,
   "outputs": [],
   "source": [
    "seed = 2021\n",
    "np.random.seed(seed)\n",
    "random.seed(seed)\n",
    "train_size = 0.7\n",
    "val_size = 0.2\n",
    "test_size = 0.1\n",
    "tot_structure_num = len(data_list[:105000]+test_list)\n",
    "split_indexes = list(range(len(data_list[:105000])))\n",
    "random.shuffle(split_indexes)\n",
    "index2split = {}\n",
    "for i in range(0, 80000):\n",
    "    index2split[split_indexes[i]] = 'train'\n",
    "for i in range(80000,80000+25000):\n",
    "    index2split[split_indexes[i]] = 'val'\n",
    "\n",
    "mapping_dict = {}\n",
    "train_data, val_data = [], []\n",
    "for i in range(len(data_list[:105000])):\n",
    "    if index2split[i] == 'train':\n",
    "        train_data.append(data_list[i])\n",
    "    elif index2split[i] == 'val':\n",
    "        val_data.append(data_list[i])\n",
    "    mapping_dict[data_list[i][0]] = i\n",
    "for i in range(len(test_list)):\n",
    "    mapping_dict[test_list[i][0]] = i + 105000\n",
    "\n",
    "test_data = test_list\n",
    "del test_list"
   ],
   "metadata": {
    "collapsed": false,
    "ExecuteTime": {
     "end_time": "2023-07-19T01:08:07.998034466Z",
     "start_time": "2023-07-19T01:08:07.799494336Z"
    }
   }
  },
  {
   "cell_type": "code",
   "execution_count": 68,
   "outputs": [
    {
     "name": "stdout",
     "output_type": "stream",
     "text": [
      "80000 25000 115\n"
     ]
    }
   ],
   "source": [
    "print(len(train_data), len(val_data), len(test_data))"
   ],
   "metadata": {
    "collapsed": false,
    "ExecuteTime": {
     "end_time": "2023-07-19T01:08:09.035206098Z",
     "start_time": "2023-07-19T01:08:09.014843608Z"
    }
   }
  },
  {
   "cell_type": "code",
   "execution_count": 89,
   "outputs": [],
   "source": [
    "df = pd.DataFrame(data_list)\n",
    "df.columns = ['sid', 'fid', 'energy']"
   ],
   "metadata": {
    "collapsed": false,
    "ExecuteTime": {
     "end_time": "2023-07-19T01:14:18.751788712Z",
     "start_time": "2023-07-19T01:14:18.689484588Z"
    }
   }
  },
  {
   "cell_type": "code",
   "execution_count": 90,
   "outputs": [
    {
     "data": {
      "text/plain": "                  fid\nsid                  \nYLH_Cr2O47Zn46  11034\nZPL_Cr4O8Zn2     8604\nZPL_Cr4O7Zn2     7232\nYLH_Cr2O42Zn46   5897\nYLH_Cr2O46Zn46   4931",
      "text/html": "<div>\n<style scoped>\n    .dataframe tbody tr th:only-of-type {\n        vertical-align: middle;\n    }\n\n    .dataframe tbody tr th {\n        vertical-align: top;\n    }\n\n    .dataframe thead th {\n        text-align: right;\n    }\n</style>\n<table border=\"1\" class=\"dataframe\">\n  <thead>\n    <tr style=\"text-align: right;\">\n      <th></th>\n      <th>fid</th>\n    </tr>\n    <tr>\n      <th>sid</th>\n      <th></th>\n    </tr>\n  </thead>\n  <tbody>\n    <tr>\n      <th>YLH_Cr2O47Zn46</th>\n      <td>11034</td>\n    </tr>\n    <tr>\n      <th>ZPL_Cr4O8Zn2</th>\n      <td>8604</td>\n    </tr>\n    <tr>\n      <th>ZPL_Cr4O7Zn2</th>\n      <td>7232</td>\n    </tr>\n    <tr>\n      <th>YLH_Cr2O42Zn46</th>\n      <td>5897</td>\n    </tr>\n    <tr>\n      <th>YLH_Cr2O46Zn46</th>\n      <td>4931</td>\n    </tr>\n  </tbody>\n</table>\n</div>"
     },
     "execution_count": 90,
     "metadata": {},
     "output_type": "execute_result"
    }
   ],
   "source": [
    "df.groupby('sid').agg({'fid': len}).sort_values('fid', ascending=False).head()"
   ],
   "metadata": {
    "collapsed": false,
    "ExecuteTime": {
     "end_time": "2023-07-19T01:14:19.122776891Z",
     "start_time": "2023-07-19T01:14:19.078912754Z"
    }
   }
  },
  {
   "cell_type": "code",
   "execution_count": 92,
   "outputs": [
    {
     "name": "stdout",
     "output_type": "stream",
     "text": [
      "0\n"
     ]
    },
    {
     "name": "stderr",
     "output_type": "stream",
     "text": [
      "/home/zhuxiaohai/ProgramData/mambaforge/envs/ocp-models/lib/python3.9/site-packages/ase/io/extxyz.py:1000: UserWarning: write_xyz() overwriting array \"forces\" present in atoms.arrays with stored results from calculator\n",
      "  warnings.warn('write_xyz() overwriting array \"{0}\" present '\n"
     ]
    }
   ],
   "source": [
    "dir_name = 's2ef_ZnCrO_train_80K_uncompressed'\n",
    "os.makedirs(os.path.join(output_dir, dir_name), exist_ok=True)\n",
    "file_id = 0\n",
    "traj_frames = []\n",
    "log_frames = []\n",
    "for i in range(len(train_data)):\n",
    "    if i % 100 == 0:\n",
    "        print(i)\n",
    "    if (i % 5000 == 0) and (i > 0):\n",
    "        with open(os.path.join(output_dir, dir_name, \"%d.txt\" % file_id),\n",
    "                  \"w\") as ids_log:\n",
    "            ids_log.writelines(log_frames)\n",
    "        with open(os.path.join(output_dir, dir_name, \"%d.extxyz\" % file_id),\n",
    "                  'w') as f:\n",
    "            extxyz.write_xyz(f, traj_frames)\n",
    "        file_id += 1\n",
    "        traj_frames = []\n",
    "        log_frames = []\n",
    "    log_frame = train_data[i]\n",
    "    sid, fid, energy = log_frame\n",
    "    traj_path = glob.glob(os.path.join(input_dir, sid, \"*.xyz\"))\n",
    "    traj_frame = ase.io.read(traj_path[0], fid)\n",
    "    traj_frames.append(traj_frame)\n",
    "    log_frames.append(','.join(['random{}'.format(mapping_dict[sid]),\n",
    "                                'frame{}'.format(fid),\n",
    "                                str(energy)]) + \"\\n\")\n",
    "with open(os.path.join(output_dir, dir_name, \"%d.txt\" % file_id),\n",
    "          \"w\") as ids_log:\n",
    "    ids_log.writelines(log_frames)\n",
    "with open(os.path.join(output_dir, dir_name, \"%d.extxyz\" % file_id),\n",
    "          'w') as f:\n",
    "    extxyz.write_xyz(f, traj_frames)"
   ],
   "metadata": {
    "collapsed": false,
    "ExecuteTime": {
     "end_time": "2023-07-19T01:19:59.004403352Z",
     "start_time": "2023-07-19T01:19:57.186383953Z"
    }
   }
  },
  {
   "cell_type": "code",
   "execution_count": 93,
   "outputs": [
    {
     "name": "stdout",
     "output_type": "stream",
     "text": [
      "0\n"
     ]
    },
    {
     "name": "stderr",
     "output_type": "stream",
     "text": [
      "/home/zhuxiaohai/ProgramData/mambaforge/envs/ocp-models/lib/python3.9/site-packages/ase/io/extxyz.py:1000: UserWarning: write_xyz() overwriting array \"forces\" present in atoms.arrays with stored results from calculator\n",
      "  warnings.warn('write_xyz() overwriting array \"{0}\" present '\n"
     ]
    }
   ],
   "source": [
    "dir_name = 's2ef_ZnCrO_val_25K_uncompressed'\n",
    "os.makedirs(os.path.join(output_dir, dir_name), exist_ok=True)\n",
    "file_id = 0\n",
    "traj_frames = []\n",
    "log_frames = []\n",
    "for i in range(len(val_data)):\n",
    "    if i % 100 == 0:\n",
    "        print(i)\n",
    "    if (i % 5000 == 0) and (i > 0):\n",
    "        with open(os.path.join(output_dir, dir_name, \"%d.txt\" % file_id),\n",
    "                  \"w\") as ids_log:\n",
    "            ids_log.writelines(log_frames)\n",
    "        with open(os.path.join(output_dir, dir_name, \"%d.extxyz\" % file_id),\n",
    "                  'w') as f:\n",
    "            extxyz.write_xyz(f, traj_frames)\n",
    "        file_id += 1\n",
    "        traj_frames = []\n",
    "        log_frames = []\n",
    "    log_frame = val_data[i]\n",
    "    sid, fid, energy = log_frame\n",
    "    traj_path = glob.glob(os.path.join(input_dir, sid, \"*.xyz\"))\n",
    "    traj_frame = ase.io.read(traj_path[0], fid)\n",
    "    traj_frames.append(traj_frame)\n",
    "    log_frames.append(','.join(['random{}'.format(mapping_dict[sid]),\n",
    "                                'frame{}'.format(fid),\n",
    "                                str(energy)]) + \"\\n\")\n",
    "with open(os.path.join(output_dir, dir_name, \"%d.txt\" % file_id),\n",
    "          \"w\") as ids_log:\n",
    "    ids_log.writelines(log_frames)\n",
    "with open(os.path.join(output_dir, dir_name, \"%d.extxyz\" % file_id),\n",
    "          'w') as f:\n",
    "    extxyz.write_xyz(f, traj_frames)"
   ],
   "metadata": {
    "collapsed": false,
    "ExecuteTime": {
     "end_time": "2023-07-19T01:20:58.771539229Z",
     "start_time": "2023-07-19T01:20:56.902757826Z"
    }
   }
  },
  {
   "cell_type": "code",
   "execution_count": 96,
   "outputs": [
    {
     "name": "stdout",
     "output_type": "stream",
     "text": [
      "0\n",
      "100\n"
     ]
    },
    {
     "name": "stderr",
     "output_type": "stream",
     "text": [
      "/home/zhuxiaohai/ProgramData/mambaforge/envs/ocp-models/lib/python3.9/site-packages/ase/io/extxyz.py:1000: UserWarning: write_xyz() overwriting array \"forces\" present in atoms.arrays with stored results from calculator\n",
      "  warnings.warn('write_xyz() overwriting array \"{0}\" present '\n"
     ]
    }
   ],
   "source": [
    "dir_name = 's2ef_ZnCrO_test_115_uncompressed'\n",
    "os.makedirs(os.path.join(output_dir, dir_name), exist_ok=True)\n",
    "file_id = 0\n",
    "traj_frames = []\n",
    "log_frames = []\n",
    "for i in range(len(test_data)):\n",
    "    if i % 100 == 0:\n",
    "        print(i)\n",
    "    if (i % 5000 == 0) and (i > 0):\n",
    "        with open(os.path.join(output_dir, dir_name, \"%d.txt\" % file_id),\n",
    "                  \"w\") as ids_log:\n",
    "            ids_log.writelines(log_frames)\n",
    "        with open(os.path.join(output_dir, dir_name, \"%d.extxyz\" % file_id),\n",
    "                  'w') as f:\n",
    "            extxyz.write_xyz(f, traj_frames)\n",
    "        file_id += 1\n",
    "        traj_frames = []\n",
    "        log_frames = []\n",
    "    log_frame = test_data[i]\n",
    "    sid, fid, energy = log_frame\n",
    "    traj_path = glob.glob(os.path.join(input_dir, sid, \"*.xyz\"))\n",
    "    traj_frame = ase.io.read(traj_path[0], fid)\n",
    "    traj_frames.append(traj_frame)\n",
    "    log_frames.append(','.join(['random{}'.format(mapping_dict[sid]),\n",
    "                                'frame{}'.format(fid),\n",
    "                                str(energy)]) + \"\\n\")\n",
    "with open(os.path.join(output_dir, dir_name, \"%d.txt\" % file_id),\n",
    "          \"w\") as ids_log:\n",
    "    ids_log.writelines(log_frames)\n",
    "with open(os.path.join(output_dir, dir_name, \"%d.extxyz\" % file_id),\n",
    "          'w') as f:\n",
    "    extxyz.write_xyz(f, traj_frames)"
   ],
   "metadata": {
    "collapsed": false,
    "ExecuteTime": {
     "end_time": "2023-07-19T01:22:21.025990398Z",
     "start_time": "2023-07-19T01:22:18.562378312Z"
    }
   }
  },
  {
   "cell_type": "code",
   "execution_count": 99,
   "outputs": [
    {
     "data": {
      "text/plain": "['/mnt/data1/ocp_data/data/ZnCrO_data_mapping.pkl']"
     },
     "execution_count": 99,
     "metadata": {},
     "output_type": "execute_result"
    }
   ],
   "source": [
    "joblib.dump(mapping_dict, os.path.join(output_dir, \"ZnCrO_data_mapping.pkl\"))"
   ],
   "metadata": {
    "collapsed": false,
    "ExecuteTime": {
     "end_time": "2023-07-19T01:24:56.172645661Z",
     "start_time": "2023-07-19T01:24:56.095233200Z"
    }
   }
  }
 ],
 "metadata": {
  "kernelspec": {
   "display_name": "Python 3",
   "language": "python",
   "name": "python3"
  },
  "language_info": {
   "codemirror_mode": {
    "name": "ipython",
    "version": 2
   },
   "file_extension": ".py",
   "mimetype": "text/x-python",
   "name": "python",
   "nbconvert_exporter": "python",
   "pygments_lexer": "ipython2",
   "version": "2.7.6"
  }
 },
 "nbformat": 4,
 "nbformat_minor": 0
}
