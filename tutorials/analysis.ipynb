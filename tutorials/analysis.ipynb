{
 "cells": [
  {
   "cell_type": "code",
   "execution_count": 1,
   "metadata": {
    "collapsed": true,
    "ExecuteTime": {
     "end_time": "2023-07-12T03:46:16.095216335Z",
     "start_time": "2023-07-12T03:46:15.753635416Z"
    }
   },
   "outputs": [],
   "source": [
    "import pandas as pd\n",
    "import numpy as np\n",
    "import joblib\n",
    "import os\n",
    "from collections import defaultdict"
   ]
  },
  {
   "cell_type": "code",
   "execution_count": 22,
   "outputs": [],
   "source": [
    "data_mappping = joblib.load('../data/oc20_data_mapping.pkl')"
   ],
   "metadata": {
    "collapsed": false,
    "ExecuteTime": {
     "end_time": "2023-07-12T03:53:52.987282424Z",
     "start_time": "2023-07-12T03:52:34.388722553Z"
    }
   }
  },
  {
   "cell_type": "code",
   "execution_count": 23,
   "outputs": [
    {
     "data": {
      "text/plain": "1281041"
     },
     "execution_count": 23,
     "metadata": {},
     "output_type": "execute_result"
    }
   ],
   "source": [
    "len(data_mappping)"
   ],
   "metadata": {
    "collapsed": false,
    "ExecuteTime": {
     "end_time": "2023-07-12T03:53:53.071861649Z",
     "start_time": "2023-07-12T03:53:53.027698073Z"
    }
   }
  },
  {
   "cell_type": "code",
   "execution_count": 24,
   "outputs": [],
   "source": [
    "file_names = [i for i in os.listdir('../data/s2ef/2M/train') if i.find('.txt')>=0]\n",
    "new_dict = []\n",
    "for file in file_names:\n",
    "    path = os.path.join('../data/s2ef/2M/train', file)\n",
    "    with open(path, 'r') as f:\n",
    "        lines = f.readlines()\n",
    "    for line in lines:\n",
    "        system_id, frame_id = line.split(',')\n",
    "        temp = {}\n",
    "        temp['system_id'] = system_id\n",
    "        temp['frame_id'] = frame_id\n",
    "        temp.update(data_mappping.get(system_id, {}))\n",
    "        new_dict.append(temp)"
   ],
   "metadata": {
    "collapsed": false,
    "ExecuteTime": {
     "end_time": "2023-07-12T03:53:58.908556043Z",
     "start_time": "2023-07-12T03:53:53.028382228Z"
    }
   }
  },
  {
   "cell_type": "code",
   "execution_count": 25,
   "outputs": [],
   "source": [
    "df = pd.DataFrame(new_dict)"
   ],
   "metadata": {
    "collapsed": false,
    "ExecuteTime": {
     "end_time": "2023-07-12T03:54:06.133678576Z",
     "start_time": "2023-07-12T03:53:58.910110262Z"
    }
   }
  },
  {
   "cell_type": "code",
   "execution_count": 26,
   "outputs": [
    {
     "data": {
      "text/plain": "(2000000, 13)"
     },
     "execution_count": 26,
     "metadata": {},
     "output_type": "execute_result"
    }
   ],
   "source": [
    "df.shape"
   ],
   "metadata": {
    "collapsed": false,
    "ExecuteTime": {
     "end_time": "2023-07-12T03:54:06.148176137Z",
     "start_time": "2023-07-12T03:54:06.135627919Z"
    }
   }
  },
  {
   "cell_type": "code",
   "execution_count": 27,
   "outputs": [
    {
     "data": {
      "text/plain": "1427550"
     },
     "execution_count": 27,
     "metadata": {},
     "output_type": "execute_result"
    }
   ],
   "source": [
    "df['system_id'].duplicated().sum()"
   ],
   "metadata": {
    "collapsed": false,
    "ExecuteTime": {
     "end_time": "2023-07-12T03:54:06.630611507Z",
     "start_time": "2023-07-12T03:54:06.143995143Z"
    }
   }
  },
  {
   "cell_type": "code",
   "execution_count": 28,
   "outputs": [
    {
     "data": {
      "text/plain": "0"
     },
     "execution_count": 28,
     "metadata": {},
     "output_type": "execute_result"
    }
   ],
   "source": [
    "df[['system_id', 'frame_id']].duplicated().sum()"
   ],
   "metadata": {
    "collapsed": false,
    "ExecuteTime": {
     "end_time": "2023-07-12T03:54:07.854970486Z",
     "start_time": "2023-07-12T03:54:06.629237845Z"
    }
   }
  },
  {
   "cell_type": "code",
   "execution_count": 29,
   "outputs": [
    {
     "data": {
      "text/plain": "       system_id    frame_id  bulk_id  ads_id   bulk_mpid bulk_symbols  \\\n0   random876497  frame324\\n     3532      14  mp-1225059       Fe2Cl8   \n1  random1978966   frame40\\n     2593      27    mp-11453      Pd12Hf4   \n2   random621127  frame182\\n     7708      24    mp-10676    Al2Si4Sc4   \n3  random1660476  frame146\\n      986      34   mp-865357        Zn3Pd   \n4  random1030128   frame65\\n      130       4   mp-754628         W4N8   \n\n  ads_symbols miller_index  shift    top          adsorption_site  class  \\\n0      *CH2OH    (2, 1, 2)  0.022  False   ((0.56, 5.11, 25.48),)      3   \n1      *CHCHO    (2, 0, 1)  0.147  False    ((3.88, 3.7, 24.34),)      0   \n2       *CCH2    (1, 1, 1)  0.142  False   ((0.09, 2.43, 24.67),)      1   \n3      *CHCH2    (1, 0, 1)  0.125  False  ((-0.66, 3.28, 20.65),)      0   \n4          *C    (0, 2, 1)  0.102   True   ((6.67, 2.64, 21.91),)      2   \n\n   anomaly  \n0        0  \n1        0  \n2        0  \n3        0  \n4        0  ",
      "text/html": "<div>\n<style scoped>\n    .dataframe tbody tr th:only-of-type {\n        vertical-align: middle;\n    }\n\n    .dataframe tbody tr th {\n        vertical-align: top;\n    }\n\n    .dataframe thead th {\n        text-align: right;\n    }\n</style>\n<table border=\"1\" class=\"dataframe\">\n  <thead>\n    <tr style=\"text-align: right;\">\n      <th></th>\n      <th>system_id</th>\n      <th>frame_id</th>\n      <th>bulk_id</th>\n      <th>ads_id</th>\n      <th>bulk_mpid</th>\n      <th>bulk_symbols</th>\n      <th>ads_symbols</th>\n      <th>miller_index</th>\n      <th>shift</th>\n      <th>top</th>\n      <th>adsorption_site</th>\n      <th>class</th>\n      <th>anomaly</th>\n    </tr>\n  </thead>\n  <tbody>\n    <tr>\n      <th>0</th>\n      <td>random876497</td>\n      <td>frame324\\n</td>\n      <td>3532</td>\n      <td>14</td>\n      <td>mp-1225059</td>\n      <td>Fe2Cl8</td>\n      <td>*CH2OH</td>\n      <td>(2, 1, 2)</td>\n      <td>0.022</td>\n      <td>False</td>\n      <td>((0.56, 5.11, 25.48),)</td>\n      <td>3</td>\n      <td>0</td>\n    </tr>\n    <tr>\n      <th>1</th>\n      <td>random1978966</td>\n      <td>frame40\\n</td>\n      <td>2593</td>\n      <td>27</td>\n      <td>mp-11453</td>\n      <td>Pd12Hf4</td>\n      <td>*CHCHO</td>\n      <td>(2, 0, 1)</td>\n      <td>0.147</td>\n      <td>False</td>\n      <td>((3.88, 3.7, 24.34),)</td>\n      <td>0</td>\n      <td>0</td>\n    </tr>\n    <tr>\n      <th>2</th>\n      <td>random621127</td>\n      <td>frame182\\n</td>\n      <td>7708</td>\n      <td>24</td>\n      <td>mp-10676</td>\n      <td>Al2Si4Sc4</td>\n      <td>*CCH2</td>\n      <td>(1, 1, 1)</td>\n      <td>0.142</td>\n      <td>False</td>\n      <td>((0.09, 2.43, 24.67),)</td>\n      <td>1</td>\n      <td>0</td>\n    </tr>\n    <tr>\n      <th>3</th>\n      <td>random1660476</td>\n      <td>frame146\\n</td>\n      <td>986</td>\n      <td>34</td>\n      <td>mp-865357</td>\n      <td>Zn3Pd</td>\n      <td>*CHCH2</td>\n      <td>(1, 0, 1)</td>\n      <td>0.125</td>\n      <td>False</td>\n      <td>((-0.66, 3.28, 20.65),)</td>\n      <td>0</td>\n      <td>0</td>\n    </tr>\n    <tr>\n      <th>4</th>\n      <td>random1030128</td>\n      <td>frame65\\n</td>\n      <td>130</td>\n      <td>4</td>\n      <td>mp-754628</td>\n      <td>W4N8</td>\n      <td>*C</td>\n      <td>(0, 2, 1)</td>\n      <td>0.102</td>\n      <td>True</td>\n      <td>((6.67, 2.64, 21.91),)</td>\n      <td>2</td>\n      <td>0</td>\n    </tr>\n  </tbody>\n</table>\n</div>"
     },
     "execution_count": 29,
     "metadata": {},
     "output_type": "execute_result"
    }
   ],
   "source": [
    "df.head()"
   ],
   "metadata": {
    "collapsed": false,
    "ExecuteTime": {
     "end_time": "2023-07-12T03:54:13.074119730Z",
     "start_time": "2023-07-12T03:54:13.027148828Z"
    }
   }
  },
  {
   "cell_type": "code",
   "execution_count": 30,
   "outputs": [
    {
     "data": {
      "text/plain": "anomaly\n0    1311710\n1     421258\n3     129934\n2     113415\n4      23683\nName: count, dtype: int64"
     },
     "execution_count": 30,
     "metadata": {},
     "output_type": "execute_result"
    }
   ],
   "source": [
    "df['anomaly'].value_counts()"
   ],
   "metadata": {
    "collapsed": false,
    "ExecuteTime": {
     "end_time": "2023-07-12T03:54:14.346715664Z",
     "start_time": "2023-07-12T03:54:14.336544505Z"
    }
   }
  },
  {
   "cell_type": "code",
   "execution_count": 31,
   "outputs": [
    {
     "data": {
      "text/plain": "class\n0    842342\n2    620850\n1    455210\n3     81598\nName: count, dtype: int64"
     },
     "execution_count": 31,
     "metadata": {},
     "output_type": "execute_result"
    }
   ],
   "source": [
    "df['class'].value_counts()"
   ],
   "metadata": {
    "collapsed": false,
    "ExecuteTime": {
     "end_time": "2023-07-12T03:54:14.347423537Z",
     "start_time": "2023-07-12T03:54:14.337349933Z"
    }
   }
  },
  {
   "cell_type": "code",
   "execution_count": 32,
   "outputs": [
    {
     "data": {
      "text/plain": "class\n0    585390\n2    381416\n1    304439\n3     40465\nName: count, dtype: int64"
     },
     "execution_count": 32,
     "metadata": {},
     "output_type": "execute_result"
    }
   ],
   "source": [
    "df[df['anomaly']==0]['class'].value_counts()"
   ],
   "metadata": {
    "collapsed": false,
    "ExecuteTime": {
     "end_time": "2023-07-12T03:54:14.704523056Z",
     "start_time": "2023-07-12T03:54:14.338158181Z"
    }
   }
  },
  {
   "cell_type": "code",
   "execution_count": 33,
   "outputs": [
    {
     "data": {
      "text/plain": "ads_symbols\n*CCO          31303\n*CHCO         30297\n*CCH          29009\n*COCH3        28914\n*OCH2CH3      27950\n              ...  \n*ONN(CH3)2     8823\n*CHOHCHOH      6444\n*CH4           2046\n*NO2NO2        1039\n*OHNNCH3        608\nName: count, Length: 67, dtype: int64"
     },
     "execution_count": 33,
     "metadata": {},
     "output_type": "execute_result"
    }
   ],
   "source": [
    "df[df['anomaly']==0]['ads_symbols'].value_counts()"
   ],
   "metadata": {
    "collapsed": false,
    "ExecuteTime": {
     "end_time": "2023-07-12T03:54:15.120834820Z",
     "start_time": "2023-07-12T03:54:14.701342655Z"
    }
   }
  },
  {
   "cell_type": "code",
   "execution_count": 34,
   "outputs": [],
   "source": [
    "stat = df[df['anomaly']==0].groupby(['class', 'ads_symbols'])['system_id'].count().reset_index()"
   ],
   "metadata": {
    "collapsed": false,
    "ExecuteTime": {
     "end_time": "2023-07-12T03:54:15.645624341Z",
     "start_time": "2023-07-12T03:54:15.078833916Z"
    }
   }
  },
  {
   "cell_type": "code",
   "execution_count": 35,
   "outputs": [
    {
     "data": {
      "text/plain": "(268, 3)"
     },
     "execution_count": 35,
     "metadata": {},
     "output_type": "execute_result"
    }
   ],
   "source": [
    "stat.shape"
   ],
   "metadata": {
    "collapsed": false,
    "ExecuteTime": {
     "end_time": "2023-07-12T03:54:15.646673695Z",
     "start_time": "2023-07-12T03:54:15.639276261Z"
    }
   }
  },
  {
   "cell_type": "code",
   "execution_count": 36,
   "outputs": [
    {
     "data": {
      "text/plain": "class\n0    {'min': [('*OHNNCH3', 86)], 'max': [('*CCO', 1...\n1    {'min': [('*OHNNCH3', 38)], 'max': [('*CCO', 7...\n2    {'min': [('*OHNNCH3', 269)], 'max': [('*CCO', ...\n3    {'min': [('*NO2NO2', 108)], 'max': [('*CCH', 9...\ndtype: object"
     },
     "execution_count": 36,
     "metadata": {},
     "output_type": "execute_result"
    }
   ],
   "source": [
    "def show(df):\n",
    "    result = {}\n",
    "    temp = df[df['system_id'] == df['system_id'].min()]\n",
    "    temp['print'] = df[['ads_symbols', 'system_id']].apply(lambda x: (x['ads_symbols'], x['system_id']), axis=1)\n",
    "    result['min'] = temp['print'].tolist()\n",
    "    temp = df[df['system_id'] == df['system_id'].max()]\n",
    "    temp['print'] = df[['ads_symbols', 'system_id']].apply(lambda x: (x['ads_symbols'], x['system_id']), axis=1)\n",
    "    result['max'] = temp['print'].tolist()\n",
    "    return result\n",
    "stat.groupby('class').apply(show)"
   ],
   "metadata": {
    "collapsed": false,
    "ExecuteTime": {
     "end_time": "2023-07-12T03:54:15.722328325Z",
     "start_time": "2023-07-12T03:54:15.646951870Z"
    }
   }
  },
  {
   "cell_type": "code",
   "execution_count": 37,
   "outputs": [
    {
     "data": {
      "text/plain": "     class ads_symbols  system_id\n0        0          *C       4325\n1        1          *C       2642\n2        2          *C       4592\n3        3          *C        451\n4        0        *C*C       9120\n..     ...         ...        ...\n263      3      *ONNH2        538\n264      0      CH2*CO      11125\n265      1      CH2*CO       5386\n266      2      CH2*CO       6062\n267      3      CH2*CO        612\n\n[268 rows x 3 columns]",
      "text/html": "<div>\n<style scoped>\n    .dataframe tbody tr th:only-of-type {\n        vertical-align: middle;\n    }\n\n    .dataframe tbody tr th {\n        vertical-align: top;\n    }\n\n    .dataframe thead th {\n        text-align: right;\n    }\n</style>\n<table border=\"1\" class=\"dataframe\">\n  <thead>\n    <tr style=\"text-align: right;\">\n      <th></th>\n      <th>class</th>\n      <th>ads_symbols</th>\n      <th>system_id</th>\n    </tr>\n  </thead>\n  <tbody>\n    <tr>\n      <th>0</th>\n      <td>0</td>\n      <td>*C</td>\n      <td>4325</td>\n    </tr>\n    <tr>\n      <th>1</th>\n      <td>1</td>\n      <td>*C</td>\n      <td>2642</td>\n    </tr>\n    <tr>\n      <th>2</th>\n      <td>2</td>\n      <td>*C</td>\n      <td>4592</td>\n    </tr>\n    <tr>\n      <th>3</th>\n      <td>3</td>\n      <td>*C</td>\n      <td>451</td>\n    </tr>\n    <tr>\n      <th>4</th>\n      <td>0</td>\n      <td>*C*C</td>\n      <td>9120</td>\n    </tr>\n    <tr>\n      <th>...</th>\n      <td>...</td>\n      <td>...</td>\n      <td>...</td>\n    </tr>\n    <tr>\n      <th>263</th>\n      <td>3</td>\n      <td>*ONNH2</td>\n      <td>538</td>\n    </tr>\n    <tr>\n      <th>264</th>\n      <td>0</td>\n      <td>CH2*CO</td>\n      <td>11125</td>\n    </tr>\n    <tr>\n      <th>265</th>\n      <td>1</td>\n      <td>CH2*CO</td>\n      <td>5386</td>\n    </tr>\n    <tr>\n      <th>266</th>\n      <td>2</td>\n      <td>CH2*CO</td>\n      <td>6062</td>\n    </tr>\n    <tr>\n      <th>267</th>\n      <td>3</td>\n      <td>CH2*CO</td>\n      <td>612</td>\n    </tr>\n  </tbody>\n</table>\n<p>268 rows × 3 columns</p>\n</div>"
     },
     "execution_count": 37,
     "metadata": {},
     "output_type": "execute_result"
    }
   ],
   "source": [
    "stat.sort_values(['ads_symbols', 'class']).reset_index(drop=True)"
   ],
   "metadata": {
    "collapsed": false,
    "ExecuteTime": {
     "end_time": "2023-07-12T03:54:15.723236841Z",
     "start_time": "2023-07-12T03:54:15.680338241Z"
    }
   }
  },
  {
   "cell_type": "code",
   "execution_count": 38,
   "outputs": [
    {
     "data": {
      "text/plain": "class\n0    {'min': [('Ca2CdHg', 1), ('TaNbMo', 1), ('SrZn...\n1    {'min': [('Sr4Cd2As4', 1), ('CaGe2Rh2', 1), ('...\n2    {'min': [('Si2Se2Hf2', 1), ('P16S12', 1), ('Fe...\n3    {'min': [('Rb2PdCl4', 1), ('In2Pb2Cl6', 1), ('...\ndtype: object"
     },
     "execution_count": 38,
     "metadata": {},
     "output_type": "execute_result"
    }
   ],
   "source": [
    "def show(df):\n",
    "    result = {}\n",
    "    df = df['bulk_symbols'].value_counts().to_frame().reset_index()\n",
    "    df.columns = ['bulk_symbols', 'system_id']\n",
    "    df = df.sort_values('system_id')\n",
    "    temp = df[df['system_id'] == df['system_id'].min()]\n",
    "    temp['print'] = df[['bulk_symbols', 'system_id']].apply(lambda x: (x['bulk_symbols'], x['system_id']), axis=1)\n",
    "    result['min'] = temp['print'].tolist()[:3]\n",
    "    temp = df[df['system_id'] == df['system_id'].max()]\n",
    "    temp['print'] = df[['bulk_symbols', 'system_id']].apply(lambda x: (x['bulk_symbols'], x['system_id']), axis=1)\n",
    "    result['max'] = temp['print'].tolist()[:3]\n",
    "    return result\n",
    "df[df['ads_symbols']=='*C'].groupby('class').apply(show)"
   ],
   "metadata": {
    "collapsed": false,
    "ExecuteTime": {
     "end_time": "2023-07-12T03:54:15.918713976Z",
     "start_time": "2023-07-12T03:54:15.694731035Z"
    }
   }
  },
  {
   "cell_type": "code",
   "execution_count": null,
   "outputs": [],
   "source": [],
   "metadata": {
    "collapsed": false
   }
  }
 ],
 "metadata": {
  "kernelspec": {
   "display_name": "Python 3",
   "language": "python",
   "name": "python3"
  },
  "language_info": {
   "codemirror_mode": {
    "name": "ipython",
    "version": 2
   },
   "file_extension": ".py",
   "mimetype": "text/x-python",
   "name": "python",
   "nbconvert_exporter": "python",
   "pygments_lexer": "ipython2",
   "version": "2.7.6"
  }
 },
 "nbformat": 4,
 "nbformat_minor": 0
}
